{
 "cells": [
  {
   "cell_type": "code",
   "execution_count": 2,
   "metadata": {},
   "outputs": [],
   "source": [
    "import networkx\n",
    "import networkx as nx \n",
    "import numpy as np\n",
    "import random\n",
    "import scipy as sp\n",
    "\n",
    "import timeit\n",
    "import cProfile\n",
    "import pstats\n",
    "from numba import njit"
   ]
  },
  {
   "cell_type": "code",
   "execution_count": 3,
   "metadata": {},
   "outputs": [],
   "source": [
    "%run '/Users/janthiel/Desktop/Math Diss/main copy.ipynb'"
   ]
  },
  {
   "cell_type": "code",
   "execution_count": 3,
   "metadata": {},
   "outputs": [],
   "source": [
    "def generate_graph(n,k):\n",
    "    # Create a random directed graph\n",
    "    G = nx.fast_gnp_random_graph(n, 0.7, directed=True)\n",
    "\n",
    "\n",
    "    '''# Split the nodes into k subsets\n",
    "    nodes = list(G.nodes())\n",
    "    random.shuffle(nodes)\n",
    "    subsets = [set(nodes[i*n//k:(i+1)*n//k]) for i in range(k)]\n",
    "\n",
    "    # Remove all edges between different subsets\n",
    "    for u, v in list(G.edges()):\n",
    "        for i in range(k):\n",
    "            if u in subsets[i]:\n",
    "                for j in range(i+1, k):\n",
    "                    if v in subsets[j]:\n",
    "                        G.remove_edge(u, v)\n",
    "                        break\n",
    "\n",
    "    # Ensure every node has outdegree of at least 1\n",
    "    for node in G.nodes():\n",
    "        if G.out_degree(node) == 0:\n",
    "            # Choose a random node to connect to, excluding the current node\n",
    "            other_nodes = list(set(G.nodes()) - {node})\n",
    "            G.add_edge(node, random.choice(other_nodes))'''\n",
    "\n",
    "    # Now, G is a random directed graph that is not strongly connected but every node has outdegree of at least 1\n",
    "\n",
    "    G = nx.stochastic_graph(G)\n",
    "    kc_A = nx.adjacency_matrix(G).todense().T\n",
    "    return G, kc_A"
   ]
  },
  {
   "cell_type": "code",
   "execution_count": 4,
   "metadata": {},
   "outputs": [
    {
     "ename": "KeyboardInterrupt",
     "evalue": "",
     "output_type": "error",
     "traceback": [
      "\u001b[0;31m---------------------------------------------------------------------------\u001b[0m",
      "\u001b[0;31mKeyboardInterrupt\u001b[0m                         Traceback (most recent call last)",
      "Input \u001b[0;32mIn [4]\u001b[0m, in \u001b[0;36m<cell line: 1>\u001b[0;34m()\u001b[0m\n\u001b[0;32m----> 1\u001b[0m \u001b[43mgenerate_graph\u001b[49m\u001b[43m(\u001b[49m\u001b[38;5;241;43m1000\u001b[39;49m\u001b[43m,\u001b[49m\u001b[38;5;241;43m10\u001b[39;49m\u001b[43m)\u001b[49m\n",
      "Input \u001b[0;32mIn [3]\u001b[0m, in \u001b[0;36mgenerate_graph\u001b[0;34m(n, k)\u001b[0m\n\u001b[1;32m     27\u001b[0m \u001b[38;5;66;03m# Now, G is a random directed graph that is not strongly connected but every node has outdegree of at least 1\u001b[39;00m\n\u001b[1;32m     29\u001b[0m G \u001b[38;5;241m=\u001b[39m nx\u001b[38;5;241m.\u001b[39mstochastic_graph(G)\n\u001b[0;32m---> 30\u001b[0m kc_A \u001b[38;5;241m=\u001b[39m \u001b[43mnx\u001b[49m\u001b[38;5;241;43m.\u001b[39;49m\u001b[43madjacency_matrix\u001b[49m\u001b[43m(\u001b[49m\u001b[43mG\u001b[49m\u001b[43m)\u001b[49m\u001b[38;5;241m.\u001b[39mtodense()\u001b[38;5;241m.\u001b[39mT\n\u001b[1;32m     31\u001b[0m \u001b[38;5;28;01mreturn\u001b[39;00m G, kc_A\n",
      "File \u001b[0;32m/Library/Frameworks/Python.framework/Versions/3.10/lib/python3.10/site-packages/networkx/utils/backends.py:412\u001b[0m, in \u001b[0;36m_dispatch.__call__\u001b[0;34m(self, backend, *args, **kwargs)\u001b[0m\n\u001b[1;32m    409\u001b[0m \u001b[38;5;28;01mdef\u001b[39;00m \u001b[38;5;21m__call__\u001b[39m(\u001b[38;5;28mself\u001b[39m, \u001b[38;5;241m/\u001b[39m, \u001b[38;5;241m*\u001b[39margs, backend\u001b[38;5;241m=\u001b[39m\u001b[38;5;28;01mNone\u001b[39;00m, \u001b[38;5;241m*\u001b[39m\u001b[38;5;241m*\u001b[39mkwargs):\n\u001b[1;32m    410\u001b[0m     \u001b[38;5;28;01mif\u001b[39;00m \u001b[38;5;129;01mnot\u001b[39;00m backends:\n\u001b[1;32m    411\u001b[0m         \u001b[38;5;66;03m# Fast path if no backends are installed\u001b[39;00m\n\u001b[0;32m--> 412\u001b[0m         \u001b[38;5;28;01mreturn\u001b[39;00m \u001b[38;5;28;43mself\u001b[39;49m\u001b[38;5;241;43m.\u001b[39;49m\u001b[43morig_func\u001b[49m\u001b[43m(\u001b[49m\u001b[38;5;241;43m*\u001b[39;49m\u001b[43margs\u001b[49m\u001b[43m,\u001b[49m\u001b[43m \u001b[49m\u001b[38;5;241;43m*\u001b[39;49m\u001b[38;5;241;43m*\u001b[39;49m\u001b[43mkwargs\u001b[49m\u001b[43m)\u001b[49m\n\u001b[1;32m    414\u001b[0m     \u001b[38;5;66;03m# Use `backend_name` in this function instead of `backend`\u001b[39;00m\n\u001b[1;32m    415\u001b[0m     backend_name \u001b[38;5;241m=\u001b[39m backend\n",
      "File \u001b[0;32m/Library/Frameworks/Python.framework/Versions/3.10/lib/python3.10/site-packages/networkx/linalg/graphmatrix.py:166\u001b[0m, in \u001b[0;36madjacency_matrix\u001b[0;34m(G, nodelist, dtype, weight)\u001b[0m\n\u001b[1;32m    107\u001b[0m \u001b[38;5;129m@nx\u001b[39m\u001b[38;5;241m.\u001b[39m_dispatch(edge_attrs\u001b[38;5;241m=\u001b[39m\u001b[38;5;124m\"\u001b[39m\u001b[38;5;124mweight\u001b[39m\u001b[38;5;124m\"\u001b[39m)\n\u001b[1;32m    108\u001b[0m \u001b[38;5;28;01mdef\u001b[39;00m \u001b[38;5;21madjacency_matrix\u001b[39m(G, nodelist\u001b[38;5;241m=\u001b[39m\u001b[38;5;28;01mNone\u001b[39;00m, dtype\u001b[38;5;241m=\u001b[39m\u001b[38;5;28;01mNone\u001b[39;00m, weight\u001b[38;5;241m=\u001b[39m\u001b[38;5;124m\"\u001b[39m\u001b[38;5;124mweight\u001b[39m\u001b[38;5;124m\"\u001b[39m):\n\u001b[1;32m    109\u001b[0m     \u001b[38;5;124;03m\"\"\"Returns adjacency matrix of G.\u001b[39;00m\n\u001b[1;32m    110\u001b[0m \n\u001b[1;32m    111\u001b[0m \u001b[38;5;124;03m    Parameters\u001b[39;00m\n\u001b[0;32m   (...)\u001b[0m\n\u001b[1;32m    164\u001b[0m \u001b[38;5;124;03m    adjacency_spectrum\u001b[39;00m\n\u001b[1;32m    165\u001b[0m \u001b[38;5;124;03m    \"\"\"\u001b[39;00m\n\u001b[0;32m--> 166\u001b[0m     \u001b[38;5;28;01mreturn\u001b[39;00m \u001b[43mnx\u001b[49m\u001b[38;5;241;43m.\u001b[39;49m\u001b[43mto_scipy_sparse_array\u001b[49m\u001b[43m(\u001b[49m\u001b[43mG\u001b[49m\u001b[43m,\u001b[49m\u001b[43m \u001b[49m\u001b[43mnodelist\u001b[49m\u001b[38;5;241;43m=\u001b[39;49m\u001b[43mnodelist\u001b[49m\u001b[43m,\u001b[49m\u001b[43m \u001b[49m\u001b[43mdtype\u001b[49m\u001b[38;5;241;43m=\u001b[39;49m\u001b[43mdtype\u001b[49m\u001b[43m,\u001b[49m\u001b[43m \u001b[49m\u001b[43mweight\u001b[49m\u001b[38;5;241;43m=\u001b[39;49m\u001b[43mweight\u001b[49m\u001b[43m)\u001b[49m\n",
      "File \u001b[0;32m/Library/Frameworks/Python.framework/Versions/3.10/lib/python3.10/site-packages/networkx/utils/backends.py:412\u001b[0m, in \u001b[0;36m_dispatch.__call__\u001b[0;34m(self, backend, *args, **kwargs)\u001b[0m\n\u001b[1;32m    409\u001b[0m \u001b[38;5;28;01mdef\u001b[39;00m \u001b[38;5;21m__call__\u001b[39m(\u001b[38;5;28mself\u001b[39m, \u001b[38;5;241m/\u001b[39m, \u001b[38;5;241m*\u001b[39margs, backend\u001b[38;5;241m=\u001b[39m\u001b[38;5;28;01mNone\u001b[39;00m, \u001b[38;5;241m*\u001b[39m\u001b[38;5;241m*\u001b[39mkwargs):\n\u001b[1;32m    410\u001b[0m     \u001b[38;5;28;01mif\u001b[39;00m \u001b[38;5;129;01mnot\u001b[39;00m backends:\n\u001b[1;32m    411\u001b[0m         \u001b[38;5;66;03m# Fast path if no backends are installed\u001b[39;00m\n\u001b[0;32m--> 412\u001b[0m         \u001b[38;5;28;01mreturn\u001b[39;00m \u001b[38;5;28;43mself\u001b[39;49m\u001b[38;5;241;43m.\u001b[39;49m\u001b[43morig_func\u001b[49m\u001b[43m(\u001b[49m\u001b[38;5;241;43m*\u001b[39;49m\u001b[43margs\u001b[49m\u001b[43m,\u001b[49m\u001b[43m \u001b[49m\u001b[38;5;241;43m*\u001b[39;49m\u001b[38;5;241;43m*\u001b[39;49m\u001b[43mkwargs\u001b[49m\u001b[43m)\u001b[49m\n\u001b[1;32m    414\u001b[0m     \u001b[38;5;66;03m# Use `backend_name` in this function instead of `backend`\u001b[39;00m\n\u001b[1;32m    415\u001b[0m     backend_name \u001b[38;5;241m=\u001b[39m backend\n",
      "\u001b[0;31mKeyboardInterrupt\u001b[0m: "
     ]
    }
   ],
   "source": [
    "generate_graph(1000,10)"
   ]
  },
  {
   "cell_type": "code",
   "execution_count": 5,
   "metadata": {},
   "outputs": [],
   "source": [
    "def stochastic(A):\n",
    "    for i in range(np.shape(A)[0]):\n",
    "        A[:, i] = A[:, i]/sum(A[:, i])\n",
    "    return A\n",
    "\n",
    "def find_descendants(graph):\n",
    "    sorted_nodes = list(nx.topological_sort(graph))\n",
    "    descendants = {node: set() for node in sorted_nodes}\n",
    "    for node in reversed(sorted_nodes):  # start from the end of the list\n",
    "        for neighbor in graph.successors(node):  # successors are the children of a node in a directed graph\n",
    "            descendants[node].add(neighbor)\n",
    "            descendants[node] |= descendants[neighbor]  # add descendants of the neighbor\n",
    "    return descendants \n",
    "\n",
    "def find_ancestors(graph):\n",
    "    sorted_nodes = list(nx.topological_sort(graph))\n",
    "    ancestors = {node: set() for node in sorted_nodes}\n",
    "    for node in sorted_nodes:  # start from the beginning of the list\n",
    "        ancestors[node].add(node)\n",
    "        for neighbor in graph.predecessors(node):  # predecessors are the parents of a node in a directed graph\n",
    "            ancestors[node].add(neighbor)\n",
    "            ancestors[node] |= ancestors[neighbor]  # add ancestors of the neighbor\n",
    "    return ancestors \n",
    "\n",
    "\n",
    "def N(Graph, A, alpha):\n",
    "    n = np.shape(A)[0]\n",
    "    v = pagerank_power(A.T, p=alpha)\n",
    "    v = ((n*v - ((1-alpha)/alpha))/n).reshape(-1,)\n",
    "    C = list(networkx.strongly_connected_components(Graph)) \n",
    "    M = np.zeros((n,n))\n",
    "\n",
    "    G1 = networkx.condensation(Graph, C)\n",
    "\n",
    "    descendants = find_descendants(G1)\n",
    "    descendants = {k: u for k, u in descendants.items() if u}\n",
    "\n",
    "    for k, u in reversed(descendants.items()):\n",
    "        for p in C[k]:\n",
    "            for element in u:\n",
    "                for s in C[element]:\n",
    "                    M[s,p] = v[s]\n",
    "\n",
    "    for t in range(len(C)):\n",
    "        for i in tuple(C[t]):\n",
    "            M[i, tuple(C[t])] = v[i]\n",
    "\n",
    " \n",
    "    M += ((1-alpha)/alpha)*np.eye(n)\n",
    "    M = (alpha+0.0175)*stochastic(M)+(1-alpha-0.0175)*A\n",
    "    return M"
   ]
  },
  {
   "cell_type": "code",
   "execution_count": 6,
   "metadata": {},
   "outputs": [],
   "source": [
    "def stochastic(A):\n",
    "    for i in range(np.shape(A)[0]):\n",
    "        A[:, i] = A[:, i]/sum(A[:, i])\n",
    "    return A\n",
    "\n",
    "def find_descendants(graph):\n",
    "    sorted_nodes = list(nx.topological_sort(graph))\n",
    "    descendants = {node: set() for node in sorted_nodes}\n",
    "    for node in reversed(sorted_nodes):  # start from the end of the list\n",
    "        for neighbor in graph.successors(node):  # successors are the children of a node in a directed graph\n",
    "            descendants[node].add(neighbor)\n",
    "            descendants[node] |= descendants[neighbor]  # add descendants of the neighbor\n",
    "    return descendants \n",
    "\n",
    "def find_ancestors(graph):\n",
    "    sorted_nodes = list(nx.topological_sort(graph))\n",
    "    ancestors = {node: set() for node in sorted_nodes}\n",
    "    for node in sorted_nodes:  # start from the beginning of the list\n",
    "        ancestors[node].add(node)\n",
    "        for neighbor in graph.predecessors(node):  # predecessors are the parents of a node in a directed graph\n",
    "            ancestors[node].add(neighbor)\n",
    "            ancestors[node] |= ancestors[neighbor]  # add ancestors of the neighbor\n",
    "    return ancestors \n",
    "\n",
    "\n",
    "def L(Graph, A, alpha):\n",
    "    n = np.shape(A)[0]\n",
    "    v = pagerank_power(A.T, p=alpha)\n",
    "    v = ((n*v - ((1-alpha)/alpha))/n).reshape(-1,)\n",
    "    C = list(networkx.strongly_connected_components(Graph)) \n",
    "    M = np.zeros((n,n))\n",
    "\n",
    "    G1 = networkx.condensation(Graph, C)\n",
    "\n",
    "    descendants = find_descendants(G1)\n",
    "    descendants = {k: u for k, u in descendants.items() if u}\n",
    "\n",
    "    for k, u in reversed(descendants.items()):\n",
    "        for p in C[k]:\n",
    "            for element in u:\n",
    "                for s in C[element]:\n",
    "                    M[s,p] = v[s]\n",
    "\n",
    "    for t in range(len(C)):\n",
    "        for i in tuple(C[t]):\n",
    "            M[i, tuple(C[t])] = v[i]\n",
    "\n",
    " \n",
    "    M += ((1-alpha)/alpha)*np.eye(n)\n",
    "    M = (alpha+0.0175)*(M)+(1-alpha-0.0175)*A\n",
    "    return M"
   ]
  },
  {
   "cell_type": "code",
   "execution_count": 7,
   "metadata": {},
   "outputs": [],
   "source": [
    "import numpy as np\n",
    "import networkx as nx\n",
    "from scipy.sparse import coo_matrix, csr_matrix, eye\n",
    "\n",
    "def find_all_ancestors(G, C, G1):\n",
    "    # Initialize an empty dictionary to store the ancestors of each node\n",
    "    ancestors = {node: set() for node in G.nodes()}\n",
    "    # Iterate over the nodes in the topological order of the condensed graph\n",
    "    for node in (nx.topological_sort(G1)):\n",
    "        # If the node has predecessors in the condensed graph\n",
    "        if G1.in_degree(node) > 0:\n",
    "            # The ancestors of the node are the union of its own ancestors and its predecessors' ancestors\n",
    "            for pred in G1.predecessors(node):\n",
    "                ancestors[node] = ancestors[node].union(C[pred])\n",
    "        # Add the ancestors to the nodes in the original graph that correspond to the current node in the condensed graph\n",
    "        for original_node in C[node]:\n",
    "            ancestors[original_node] = ancestors[node].union(C[node])\n",
    "    # Create u as a list of sets, in the same order as the nodes in the original graph\n",
    "    u = [ancestors[node] for node in G.nodes()]\n",
    "    return u\n",
    "\n",
    "\n",
    "\n",
    "def T(Graph, alpha):\n",
    "    n = len(Graph)\n",
    "    A = nx.to_scipy_sparse_array(Graph, format='csr')  # Use CSR format directly\n",
    "    v = pagerank_power(A, p=alpha)\n",
    "    m = (((n*v) - ((1-alpha)/alpha))).reshape(-1,) #v = n * v - (1 - alpha) / alpha\n",
    "    C = list(nx.strongly_connected_components(Graph))\n",
    "    condensed_graph = nx.condensation(Graph, C)\n",
    "\n",
    "    u = find_all_ancestors(Graph, C, condensed_graph)\n",
    "    row_indices = []\n",
    "    col_indices = []\n",
    "    data = [] #try creating a sparse matrix directly (putting 1 for every ancestor and then multiply each row by v[k]/q)\n",
    "\n",
    "    for j, ancestors_set in enumerate(u):\n",
    "        t = len(ancestors_set)\n",
    "        row_indices.extend([j] * t)\n",
    "        col_indices.extend(list(ancestors_set))\n",
    "        data.extend([m[j] / t] * t)\n",
    "\n",
    "    M = coo_matrix((data, (row_indices, col_indices)), shape=(n, n))\n",
    "\n",
    "    eye_matrix = eye(n, format='coo')\n",
    "    M += ((1 - alpha) / alpha) * eye_matrix\n",
    "    M = (alpha + 0.0175) * M + (1 - alpha - 0.0175) * A.T\n",
    "\n",
    "    return csr_matrix(M)  # Convert to CSR format for efficient arithmetic operations\n"
   ]
  },
  {
   "cell_type": "code",
   "execution_count": 8,
   "metadata": {},
   "outputs": [],
   "source": [
    "def Fast(Graph, alpha):\n",
    "    n = len(Graph)\n",
    "    A = nx.to_scipy_sparse_array(Graph, format='csr')  # Use CSR format directly\n",
    "    v = pagerank_power(A, p=alpha)\n",
    "    m = 1/n*(n*v-(1-alpha)/alpha)\n",
    "    C = list(nx.strongly_connected_components(Graph))\n",
    "    condensed_graph = nx.condensation(Graph, C)\n",
    "\n",
    "    u = find_all_ancestors1(Graph, C, condensed_graph)\n",
    "    \n",
    "    row_indices = []\n",
    "    col_indices = []\n",
    "    data = [] #try creating a sparse matrix directly (putting 1 for every ancestor and then multiply each row by v[k]/q)\n",
    "\n",
    "    for j, ancestors_set in enumerate(u):\n",
    "    #for j, ancestors_set in u.items():\n",
    "        t = len(ancestors_set)\n",
    "        #m = 1/n*(n*v-(1-alpha)/alpha) #we can make this line a lot more efficient by calculating it at the beginning \n",
    "        row_indices.extend([j] * t)\n",
    "        col_indices.extend(list(ancestors_set))\n",
    "        data.extend([m[j]] * t)\n",
    "\n",
    "    #print('we are done loading the matrix')\n",
    "    M = coo_matrix((data, (row_indices, col_indices)), shape=(n, n))\n",
    "    print(f\"Fast, there are {M.nnz} ancestors\")\n",
    "\n",
    "    eye_matrix = eye(n, format='coo')\n",
    "    M += ((1 - alpha) / alpha) * eye_matrix\n",
    "    M = (alpha + 0.0175) * M + (1 - alpha - 0.0175) * A.T\n",
    "\n",
    "    return csr_matrix(M) "
   ]
  },
  {
   "cell_type": "code",
   "execution_count": 9,
   "metadata": {},
   "outputs": [],
   "source": [
    "import numpy as np\n",
    "import networkx as nx\n",
    "from scipy.sparse import coo_matrix, csr_matrix, eye\n",
    "\n",
    "import networkx as nx\n",
    "\n",
    "import networkx as nx\n",
    "\n",
    "def flatten(xss):\n",
    "    return [x for xs in xss for x in xs]\n",
    "\n",
    "def find_all_ancestors1(G, C, G1):\n",
    "    # Initialize a list to store the ancestors of each node\n",
    "    ancestors = [set() for _ in range(len(G.nodes()))]\n",
    "    predecessors = {node: set() for node in G1.nodes()}\n",
    "\n",
    "    for node in nx.topological_sort(G1):\n",
    "        for pred in G1.predecessors(node):\n",
    "            predecessors[node].update(C[pred])#, predecessors[pred])\n",
    "        components = C[node]\n",
    "        for original_node in components:\n",
    "            ancestors[original_node] = components | predecessors[node]\n",
    "\n",
    "    u = [list(ancestors[node]) for node in G.nodes()]\n",
    "    print(len(u))\n",
    "\n",
    "\n",
    "def find_all_ancestors2(G, C, G1):\n",
    "    # Initialize a list to store the ancestors of each node\n",
    "    ancestors = [[] for _ in range(len(G.nodes()))]\n",
    "    predecessors = [[] for _ in range(len(G1.nodes()))]\n",
    "    for node in nx.topological_sort(G1):\n",
    "        L = list(G1.predecessors(node))\n",
    "        #temp1 = [(list(C[pred])) for pred in L]\n",
    "        temp2 = [predecessors[pred] for pred in L]\n",
    "        predecessors[node] = set(flatten(temp2)) #+ flatten(temp1))\n",
    "        components = list(C[node])\n",
    "        for original_node in components:\n",
    "            ancestors[original_node] = components + list(predecessors[node])\n",
    "\n",
    "    return ancestors\n",
    "\n",
    "\n",
    "def find_all_ancestors3(G, C, G1):\n",
    "    # Initialize a list to store the ancestors of each node\n",
    "    ancestors = [[] for _ in range(len(G.nodes()))]\n",
    "    predecessors = {node: set([node]) for node in G1.nodes()}\n",
    "\n",
    "    for node in nx.topological_sort(G1):\n",
    "        for pred in G1.predecessors(node):\n",
    "            predecessors[node].update(predecessors[pred])\n",
    "        components = list(C[node])\n",
    "        for original_node in components:\n",
    "            ancestors[original_node] = flatten([list(C[k]) for k in predecessors[node]])\n",
    "    return {ancestors}\n",
    "\n",
    "def find_all_ancestors4(G, C, G1):\n",
    "    # Initialize a list to store the ancestors of each node\n",
    "    ancestors = [[] for _ in range(len(G.nodes()))]\n",
    "    predecessors = {node: set(C[node]) for node in G1.nodes()}\n",
    "    for node in nx.topological_sort(G1):\n",
    "        for pred in G1.predecessors(node):\n",
    "            predecessors[node].update(predecessors[pred])\n",
    "        for original_node in C[node]:\n",
    "            ancestors[original_node] = predecessors[node]\n",
    "    u = [list(ancestors[node]) for node in G.nodes()]\n",
    "    return u "
   ]
  },
  {
   "cell_type": "code",
   "execution_count": 10,
   "metadata": {},
   "outputs": [
    {
     "data": {
      "text/plain": [
       "\"if networkx.is_strongly_connected(Graph):\\n        print('strongly connected Graph')\\n        A = nx.to_numpy_array(Graph)\\n        v = pagerank_power(A, p=0.85)\\n        m = 1/n*(n*v-(1-0.85)/0.85)[:, np.newaxis]\\n        M = np.tile(m, (1, n))\\n        M += ((1 - alpha) / alpha) * np.eye(n)\\n        M = (alpha + 0.0175) * M + (1 - alpha - 0.0175) * A.T\\n        return M\""
      ]
     },
     "execution_count": 10,
     "metadata": {},
     "output_type": "execute_result"
    }
   ],
   "source": [
    "'''if networkx.is_strongly_connected(Graph):\n",
    "        print('strongly connected Graph')\n",
    "        A = nx.to_numpy_array(Graph)\n",
    "        v = pagerank_power(A, p=0.85)\n",
    "        m = 1/n*(n*v-(1-0.85)/0.85)[:, np.newaxis]\n",
    "        M = np.tile(m, (1, n))\n",
    "        M += ((1 - alpha) / alpha) * np.eye(n)\n",
    "        M = (alpha + 0.0175) * M + (1 - alpha - 0.0175) * A.T\n",
    "        return M'''"
   ]
  },
  {
   "cell_type": "code",
   "execution_count": 16,
   "metadata": {},
   "outputs": [],
   "source": [
    "\n",
    "def T(Graph, alpha):\n",
    "    n = len(Graph)\n",
    "    \n",
    "    A = nx.to_scipy_sparse_array(Graph, format='coo')  # Use coo format directly\n",
    "    v = pagerank_power(A, p=alpha)\n",
    "    m = 1/n*(n*v-(1-alpha)/alpha)\n",
    "    \n",
    "    C = list(nx.strongly_connected_components(Graph))\n",
    "    condensed_graph = nx.condensation(Graph, C) # This has time complexity O(V+E)\n",
    "\n",
    "    u = find_all_ancestors5_optimized(Graph, C, condensed_graph) #the maximum total number of ancestors is n * (s-1)/2 \n",
    "                                                                #because every every node is part of one SCC, every SCC has on average s(s-1)/(2n) ancestors and every SCC has on average n/s nodes\n",
    "    row_indices = []                                                                                                                           #^not sure this is correct, shoudln't it be 2S? \n",
    "    col_indices = []                                                                                                                           # I'm sure that would have been my first instict though as then the terms cancel\n",
    "    data = [] #try creating a sparse matrix directly (putting 1 for every ancestor and then multiply each row by v[k]/q)                       # And I remember being disappointed that they don't. \n",
    "                                                                                                                                                # The mistake is that we are not counting the nodes that i connects to within its own SCC.\n",
    "    \n",
    "    #for j, ancestors_set in enumerate(u):#there are at most n * (s-1)/2 nonzero values so the rest of the algorithm has O(n * (s-1)/2)\n",
    "    for j, ancestors_set in u.items(): \n",
    "        t = len(ancestors_set)\n",
    "        row_indices.extend([j] * t)\n",
    "        col_indices.extend(list(ancestors_set))\n",
    "        data.extend([m[j]] * t)\n",
    "\n",
    "    #print('we are done loading the matrix')\n",
    "    M = coo_matrix((data, (row_indices, col_indices)), shape=(n, n))\n",
    "    print(f\"Fast, there are {M.nnz} ancestors\")\n",
    "\n",
    "    eye_matrix = eye(n, format='coo')\n",
    "    M += ((1 - alpha) / alpha) * eye_matrix\n",
    "    M = (alpha + 0.0175) * M + (1 - alpha - 0.0175) * A.T\n",
    "\n",
    "    return M #csr_matrix(M)  # Convert to CSR format for efficient arithmetic operations"
   ]
  },
  {
   "cell_type": "code",
   "execution_count": 12,
   "metadata": {},
   "outputs": [],
   "source": [
    "def find_all_ancestors4_optimized(G, C, G1):\n",
    "    # Initialize a dictionary to store the ancestors of each node\n",
    "    ancestors = {node: set() for node in G.nodes}\n",
    "    predecessors = {node: set(C[node]) for node in G1.nodes()}\n",
    "\n",
    "    for node in nx.topological_sort(G1):\n",
    "        for pred in G1.predecessors(node):\n",
    "            predecessors[node].update(predecessors[pred])\n",
    "        for original_node in C[node]:\n",
    "            ancestors[original_node] = predecessors[node]\n",
    "    \n",
    "    # Convert sets to lists at the end\n",
    "    #u = [list(ancestors[node]) for node in G.nodes()]\n",
    "    return ancestors\n"
   ]
  },
  {
   "cell_type": "code",
   "execution_count": 13,
   "metadata": {},
   "outputs": [],
   "source": [
    "import copy"
   ]
  },
  {
   "cell_type": "code",
   "execution_count": 17,
   "metadata": {},
   "outputs": [],
   "source": [
    "\n",
    "def find_all_ancestors5_optimized(G, C, G1):\n",
    "    # Initialize a dictionary to store the ancestors of each node\n",
    "    ancestors = {node: set() for node in G.nodes}\n",
    "    predecessors = copy.deepcopy(C)#[set() for node in G1.nodes()]#[set(C[node]) for node in G1.nodes()] # \n",
    "    \n",
    "    for node in nx.topological_sort(G1): #s G1 is DAG so it has s nodes and s(s-1)/2 edges so it has time complexity O(s+s(s-1)/2)\n",
    "        for pred in G1.predecessors(node): #The total number of predecessors (node x pred(node)) is s(s-1)/2.\n",
    "            predecessors[node].update(predecessors[pred])\n",
    "        for original_node in C[node]: #(on average n/s) \n",
    "            ancestors[original_node] = predecessors[node]\n",
    "    \n",
    "    #u = [list(ancestors[node]) for node in G.nodes()]\n",
    "    #return u\n",
    "    return ancestors #the time complexity is O(s+s(s-1)/2) + O(s(s-1)/2 + s*n/s) = O(s+s(s-1)/2) + O(s(s-1)/2 + n)\n"
   ]
  },
  {
   "cell_type": "code",
   "execution_count": 15,
   "metadata": {},
   "outputs": [],
   "source": [
    "G, kc_A = generate_graph(5,5)"
   ]
  },
  {
   "cell_type": "code",
   "execution_count": 23,
   "metadata": {},
   "outputs": [],
   "source": [
    "D = list(networkx.strongly_connected_components(G)) \n",
    "G1 = networkx.condensation(G, D)\n",
    "branches = networkx.dag_to_branching(G1)\n",
    "sorted_nodes = list(networkx.topological_sort(G1))"
   ]
  },
  {
   "cell_type": "code",
   "execution_count": 37,
   "metadata": {},
   "outputs": [
    {
     "name": "stdout",
     "output_type": "stream",
     "text": [
      "Fast, there are 21 ancestors\n"
     ]
    },
    {
     "data": {
      "text/plain": [
       "array([[ 0.2637829 ,  0.3962829 ,  0.30794956,  0.30794956,  0.3300329 ],\n",
       "       [ 0.12851766,  0.12851766,  0.17268433,  0.17268433,  0.19476766],\n",
       "       [ 0.        ,  0.        , -0.00459265,  0.        ,  0.        ],\n",
       "       [ 0.37814769,  0.24564769,  0.24564769,  0.24564769,  0.24564769],\n",
       "       [ 0.08105616,  0.08105616,  0.12522283,  0.12522283,  0.08105616]])"
      ]
     },
     "execution_count": 37,
     "metadata": {},
     "output_type": "execute_result"
    }
   ],
   "source": [
    "#B = M(G, np.asarray(kc_A), 0.85)\n",
    "B = T(G, 0.85)\n",
    "B.toarray()"
   ]
  },
  {
   "cell_type": "code",
   "execution_count": 205,
   "metadata": {},
   "outputs": [
    {
     "data": {
      "text/plain": [
       "array([[0.16281557, 0.00972733, 0.01201182, ..., 0.01213642, 0.00972733,\n",
       "        0.00972733],\n",
       "       [0.01147757, 0.16206581, 0.01126205, ..., 0.00897757, 0.00897757,\n",
       "        0.01122333],\n",
       "       [0.01147434, 0.0112989 , 0.16206258, ..., 0.01138343, 0.00897434,\n",
       "        0.00897434],\n",
       "       ...,\n",
       "       [0.01130052, 0.01112508, 0.00880052, ..., 0.16188875, 0.01188191,\n",
       "        0.01104628],\n",
       "       [0.01229615, 0.01212071, 0.01208063, ..., 0.01220524, 0.16288438,\n",
       "        0.00979615],\n",
       "       [0.01032985, 0.01032985, 0.01261434, ..., 0.01273894, 0.01032985,\n",
       "        0.16341809]])"
      ]
     },
     "execution_count": 205,
     "metadata": {},
     "output_type": "execute_result"
    }
   ],
   "source": [
    "C = L(G, kc_A, 0.85)\n",
    "C\n"
   ]
  },
  {
   "cell_type": "code",
   "execution_count": 71,
   "metadata": {},
   "outputs": [],
   "source": [
    "condition = True\n",
    "while condition == True:\n",
    "    n = random.randint(5, 10)\n",
    "    k = random.randint(5, n)\n",
    "    G, kc_A = generate_graph(n,k)\n",
    "    B = T(G,0.85).toarray()\n",
    "    C = L(G, kc_A, 0.85)\n",
    "    if np.max((B - C))>0.0005:\n",
    "        condition = False"
   ]
  },
  {
   "cell_type": "code",
   "execution_count": 46,
   "metadata": {},
   "outputs": [
    {
     "name": "stdout",
     "output_type": "stream",
     "text": [
      "Fast, there are 1600 ancestors\n",
      "Fast, there are 1225 ancestors\n",
      "Fast, there are 7225 ancestors\n",
      "Fast, there are 8100 ancestors\n",
      "Fast, there are 9025 ancestors\n",
      "Fast, there are 7921 ancestors\n",
      "Fast, there are 289 ancestors\n",
      "Fast, there are 961 ancestors\n",
      "Fast, there are 8836 ancestors\n",
      "Fast, there are 9025 ancestors\n",
      "Fast, there are 2025 ancestors\n",
      "Fast, there are 8836 ancestors\n",
      "Fast, there are 225 ancestors\n",
      "Fast, there are 1089 ancestors\n",
      "Fast, there are 144 ancestors\n",
      "Fast, there are 400 ancestors\n",
      "Fast, there are 225 ancestors\n",
      "Fast, there are 3025 ancestors\n",
      "Fast, there are 5476 ancestors\n",
      "Fast, there are 3721 ancestors\n",
      "Fast, there are 6889 ancestors\n",
      "Fast, there are 625 ancestors\n",
      "Fast, there are 961 ancestors\n",
      "Fast, there are 7921 ancestors\n",
      "Fast, there are 7396 ancestors\n",
      "Fast, there are 3721 ancestors\n",
      "Fast, there are 1296 ancestors\n",
      "Fast, there are 1444 ancestors\n",
      "Fast, there are 1600 ancestors\n",
      "Fast, there are 9409 ancestors\n",
      "Fast, there are 196 ancestors\n",
      "Fast, there are 2304 ancestors\n",
      "Fast, there are 1089 ancestors\n",
      "Fast, there are 6084 ancestors\n",
      "Fast, there are 1369 ancestors\n",
      "Fast, there are 7921 ancestors\n",
      "Fast, there are 289 ancestors\n",
      "Fast, there are 576 ancestors\n",
      "Fast, there are 10000 ancestors\n",
      "Fast, there are 289 ancestors\n",
      "Fast, there are 7569 ancestors\n",
      "Fast, there are 9216 ancestors\n",
      "Fast, there are 3364 ancestors\n",
      "Fast, there are 1521 ancestors\n",
      "Fast, there are 529 ancestors\n",
      "Fast, there are 6084 ancestors\n",
      "Fast, there are 784 ancestors\n",
      "Fast, there are 529 ancestors\n",
      "Fast, there are 100 ancestors\n",
      "Fast, there are 1600 ancestors\n"
     ]
    }
   ],
   "source": [
    "l = []\n",
    "m = []\n",
    "for i in range(50):\n",
    "    n = random.randint(10, 100)\n",
    "    k = 1 #random.randint(10, n)\n",
    "    F, kc_B = generate_graph(n,k)\n",
    "    A = T(F,0.85).toarray()\n",
    "    #B = Fast(F,0.85).toarray()\n",
    "    #B = L(F, kc_B, 0.85)\n",
    "    #B = N(F, kc_B, 0.85)\n",
    "    B = fast_powerrecommend_Matrix2(kc_B, 0.15)#fast_powerrecommend_Matrix2(kc_A, 0.15)\n",
    "    #U = (sp.stats.rankdata(A, axis=0) - sp.stats.rankdata(B, axis=0))\n",
    "    #U = U[U>0]#\n",
    "    l.append(sp.stats.kendalltau(A,B)[0])"
   ]
  },
  {
   "cell_type": "code",
   "execution_count": 47,
   "metadata": {},
   "outputs": [
    {
     "data": {
      "image/png": "[encoded data removed]",
      "text/latex": [
       "$\\displaystyle 0.958487686812902$"
      ],
      "text/plain": [
       "0.9584876868129021"
      ]
     },
     "execution_count": 47,
     "metadata": {},
     "output_type": "execute_result"
    }
   ],
   "source": [
    "sum(l)/50"
   ]
  },
  {
   "cell_type": "code",
   "execution_count": null,
   "metadata": {},
   "outputs": [
    {
     "name": "stdout",
     "output_type": "stream",
     "text": [
      "strongly connected Graph\n"
     ]
    },
    {
     "name": "stdout",
     "output_type": "stream",
     "text": [
      "Fast, there are 2704 ancestors\n",
      "Fast, there are 3249 ancestors\n",
      "Fast, there are 441 ancestors\n"
     ]
    },
    {
     "name": "stdout",
     "output_type": "stream",
     "text": [
      "Fast, there are 2209 ancestors\n"
     ]
    }
   ],
   "source": [
    "A = T(F,0.85)"
   ]
  },
  {
   "cell_type": "code",
   "execution_count": null,
   "metadata": {},
   "outputs": [
    {
     "data": {
      "image/png": "[encoded data removed]",
      "text/latex": [
       "$\\displaystyle \\left( 10, \\  10\\right)$"
      ],
      "text/plain": [
       "(10, 10)"
      ]
     },
     "execution_count": 194,
     "metadata": {},
     "output_type": "execute_result"
    }
   ],
   "source": [
    "np.shape(A)"
   ]
  },
  {
   "cell_type": "code",
   "execution_count": 192,
   "metadata": {},
   "outputs": [
    {
     "data": {
      "image/png": "[encoded data removed]",
      "text/latex": [
       "$\\displaystyle \\left( 42, \\  42\\right)$"
      ],
      "text/plain": [
       "(42, 42)"
      ]
     },
     "execution_count": 192,
     "metadata": {},
     "output_type": "execute_result"
    }
   ],
   "source": [
    "np.shape(B)"
   ]
  },
  {
   "cell_type": "code",
   "execution_count": 18,
   "metadata": {},
   "outputs": [],
   "source": [
    "import networkx as nx\n",
    "import json\n",
    "import pandas as pd\n",
    "edges_path = '/Users/janthiel/Downloads/facebook_large/musae_facebook_edges.csv'\n",
    "targets_path = '/Users/janthiel/Downloads/facebook_large/musae_facebook_target.csv'\n",
    "features_path = '/Users/janthiel/Downloads/facebook_large/musae_facebook_features.json'\n",
    "edges = pd.read_csv(edges_path)\n",
    "targets = pd.read_csv(targets_path)\n",
    "targets.index = targets.id\n",
    "with open(features_path) as json_data:\n",
    "    features = json.load(json_data)\n",
    "fb_graph = networkx.convert_matrix.from_pandas_edgelist(edges, \"id_1\", \"id_2\", create_using=networkx.MultiDiGraph())\n",
    "fb_graph = networkx.stochastic_graph(fb_graph)\n",
    "fb_A = networkx.to_scipy_sparse_array(fb_graph, format='lil')"
   ]
  },
  {
   "cell_type": "code",
   "execution_count": 137,
   "metadata": {},
   "outputs": [
    {
     "name": "stdout",
     "output_type": "stream",
     "text": [
      "Fast, there are 193293 ancestors\n"
     ]
    }
   ],
   "source": [
    "F_ = Fast(fb_graph, 0.85)"
   ]
  },
  {
   "cell_type": "code",
   "execution_count": 107,
   "metadata": {},
   "outputs": [],
   "source": [
    "A = np.array([[0,0.4, 0.3],[0.2,0, 0.7],[0.8,0.6,0]])"
   ]
  },
  {
   "cell_type": "code",
   "execution_count": 103,
   "metadata": {},
   "outputs": [
    {
     "data": {
      "text/plain": [
       "array([[0. , 0.4, 0.3],\n",
       "       [0.2, 0. , 0.7],\n",
       "       [0.8, 0.6, 0. ]])"
      ]
     },
     "execution_count": 103,
     "metadata": {},
     "output_type": "execute_result"
    }
   ],
   "source": [
    "A"
   ]
  },
  {
   "cell_type": "code",
   "execution_count": 111,
   "metadata": {},
   "outputs": [
    {
     "data": {
      "text/plain": [
       "array([[0.38758305, 0.21144561, 0.21141648],\n",
       "       [0.27697225, 0.45316794, 0.27711789],\n",
       "       [0.3354447 , 0.33538645, 0.51146562]])"
      ]
     },
     "execution_count": 111,
     "metadata": {},
     "output_type": "execute_result"
    }
   ],
   "source": [
    "for i in range(1):\n",
    "    A = fast_powerrecommend_Matrix2(A, 0.15)\n",
    "A"
   ]
  },
  {
   "cell_type": "code",
   "execution_count": 97,
   "metadata": {},
   "outputs": [
    {
     "data": {
      "text/plain": [
       "array([[0.21134825, 0.21134826, 0.21134826],\n",
       "       [0.27693909, 0.27693909, 0.2769391 ],\n",
       "       [0.33524207, 0.33524207, 0.33524205]])"
      ]
     },
     "execution_count": 97,
     "metadata": {},
     "output_type": "execute_result"
    }
   ],
   "source": [
    "A - 0.15/0.85*np.eye(3)"
   ]
  },
  {
   "cell_type": "code",
   "execution_count": 72,
   "metadata": {},
   "outputs": [],
   "source": [
    "def iterate(p):\n",
    "    p = (1 - 0.85)/(1-p*0.85)\n",
    "    return p"
   ]
  },
  {
   "cell_type": "code",
   "execution_count": 84,
   "metadata": {},
   "outputs": [
    {
     "data": {
      "image/png": "[encoded data removed]",
      "text/latex": [
       "$\\displaystyle 1.0$"
      ],
      "text/plain": [
       "1.0"
      ]
     },
     "execution_count": 84,
     "metadata": {},
     "output_type": "execute_result"
    }
   ],
   "source": [
    "p = o\n",
    "for i in range(200):\n",
    "    p = iterate(p)\n",
    "p"
   ]
  },
  {
   "cell_type": "code",
   "execution_count": 71,
   "metadata": {},
   "outputs": [
    {
     "data": {
      "image/png": "[encoded data removed]",
      "text/latex": [
       "$\\displaystyle 0.171919032211685$"
      ],
      "text/plain": [
       "0.17191903221168456"
      ]
     },
     "execution_count": 71,
     "metadata": {},
     "output_type": "execute_result"
    }
   ],
   "source": [
    "0.15+(0.15**2)*0.85 + (0.15**3)*0.85**2 + (0.15**4)*0.85**3 +  (0.15**5)*0.85**4 + (0.15**6)*0.85**5"
   ]
  },
  {
   "cell_type": "code",
   "execution_count": 109,
   "metadata": {},
   "outputs": [],
   "source": [
    "F_ = F_.toarray()"
   ]
  },
  {
   "cell_type": "code",
   "execution_count": 19,
   "metadata": {},
   "outputs": [
    {
     "ename": "TypingError",
     "evalue": "Failed in nopython mode pipeline (step: nopython frontend)\nUntyped global name 'pagerank_power': Cannot determine Numba type of <class 'function'>\n\nFile \"../../../../var/folders/5f/tb__hdld7xq1_6ks4_y00w8h0000gn/T/ipykernel_13146/1658605919.py\", line 6:\n<source missing, REPL/exec in use?> \n\nThis error may have been caused by the following argument(s):\n- argument 0: Cannot determine Numba type of <class 'networkx.classes.multidigraph.MultiDiGraph'>\n",
     "output_type": "error",
     "traceback": [
      "\u001b[0;31m---------------------------------------------------------------------------\u001b[0m",
      "\u001b[0;31mTypingError\u001b[0m                               Traceback (most recent call last)",
      "Input \u001b[0;32mIn [19]\u001b[0m, in \u001b[0;36m<cell line: 1>\u001b[0;34m()\u001b[0m\n\u001b[0;32m----> 1\u001b[0m T_ \u001b[38;5;241m=\u001b[39m \u001b[43mT\u001b[49m\u001b[43m(\u001b[49m\u001b[43mfb_graph\u001b[49m\u001b[43m,\u001b[49m\u001b[43m \u001b[49m\u001b[38;5;241;43m0.85\u001b[39;49m\u001b[43m)\u001b[49m\n",
      "File \u001b[0;32m/Library/Frameworks/Python.framework/Versions/3.10/lib/python3.10/site-packages/numba/core/dispatcher.py:468\u001b[0m, in \u001b[0;36m_DispatcherBase._compile_for_args\u001b[0;34m(self, *args, **kws)\u001b[0m\n\u001b[1;32m    464\u001b[0m         msg \u001b[38;5;241m=\u001b[39m (\u001b[38;5;124mf\u001b[39m\u001b[38;5;124m\"\u001b[39m\u001b[38;5;132;01m{\u001b[39;00m\u001b[38;5;28mstr\u001b[39m(e)\u001b[38;5;241m.\u001b[39mrstrip()\u001b[38;5;132;01m}\u001b[39;00m\u001b[38;5;124m \u001b[39m\u001b[38;5;130;01m\\n\u001b[39;00m\u001b[38;5;130;01m\\n\u001b[39;00m\u001b[38;5;124mThis error may have been caused \u001b[39m\u001b[38;5;124m\"\u001b[39m\n\u001b[1;32m    465\u001b[0m                \u001b[38;5;124mf\u001b[39m\u001b[38;5;124m\"\u001b[39m\u001b[38;5;124mby the following argument(s):\u001b[39m\u001b[38;5;130;01m\\n\u001b[39;00m\u001b[38;5;132;01m{\u001b[39;00margs_str\u001b[38;5;132;01m}\u001b[39;00m\u001b[38;5;130;01m\\n\u001b[39;00m\u001b[38;5;124m\"\u001b[39m)\n\u001b[1;32m    466\u001b[0m         e\u001b[38;5;241m.\u001b[39mpatch_message(msg)\n\u001b[0;32m--> 468\u001b[0m     \u001b[43merror_rewrite\u001b[49m\u001b[43m(\u001b[49m\u001b[43me\u001b[49m\u001b[43m,\u001b[49m\u001b[43m \u001b[49m\u001b[38;5;124;43m'\u001b[39;49m\u001b[38;5;124;43mtyping\u001b[39;49m\u001b[38;5;124;43m'\u001b[39;49m\u001b[43m)\u001b[49m\n\u001b[1;32m    469\u001b[0m \u001b[38;5;28;01mexcept\u001b[39;00m errors\u001b[38;5;241m.\u001b[39mUnsupportedError \u001b[38;5;28;01mas\u001b[39;00m e:\n\u001b[1;32m    470\u001b[0m     \u001b[38;5;66;03m# Something unsupported is present in the user code, add help info\u001b[39;00m\n\u001b[1;32m    471\u001b[0m     error_rewrite(e, \u001b[38;5;124m'\u001b[39m\u001b[38;5;124munsupported_error\u001b[39m\u001b[38;5;124m'\u001b[39m)\n",
      "File \u001b[0;32m/Library/Frameworks/Python.framework/Versions/3.10/lib/python3.10/site-packages/numba/core/dispatcher.py:409\u001b[0m, in \u001b[0;36m_DispatcherBase._compile_for_args.<locals>.error_rewrite\u001b[0;34m(e, issue_type)\u001b[0m\n\u001b[1;32m    407\u001b[0m     \u001b[38;5;28;01mraise\u001b[39;00m e\n\u001b[1;32m    408\u001b[0m \u001b[38;5;28;01melse\u001b[39;00m:\n\u001b[0;32m--> 409\u001b[0m     \u001b[38;5;28;01mraise\u001b[39;00m e\u001b[38;5;241m.\u001b[39mwith_traceback(\u001b[38;5;28;01mNone\u001b[39;00m)\n",
      "\u001b[0;31mTypingError\u001b[0m: Failed in nopython mode pipeline (step: nopython frontend)\nUntyped global name 'pagerank_power': Cannot determine Numba type of <class 'function'>\n\nFile \"../../../../var/folders/5f/tb__hdld7xq1_6ks4_y00w8h0000gn/T/ipykernel_13146/1658605919.py\", line 6:\n<source missing, REPL/exec in use?> \n\nThis error may have been caused by the following argument(s):\n- argument 0: Cannot determine Numba type of <class 'networkx.classes.multidigraph.MultiDiGraph'>\n"
     ]
    }
   ],
   "source": [
    "T_ = T(fb_graph, 0.85)"
   ]
  },
  {
   "cell_type": "code",
   "execution_count": 110,
   "metadata": {},
   "outputs": [],
   "source": [
    "T_ = T_ .toarray()"
   ]
  },
  {
   "cell_type": "code",
   "execution_count": 125,
   "metadata": {},
   "outputs": [
    {
     "data": {
      "text/plain": [
       "SignificanceResult(statistic=0.08848169138302224, pvalue=0.0)"
      ]
     },
     "execution_count": 125,
     "metadata": {},
     "output_type": "execute_result"
    }
   ],
   "source": [
    "sp.stats.kendalltau(F_[:,:10000],T_[:,:10000])"
   ]
  },
  {
   "cell_type": "code",
   "execution_count": 105,
   "metadata": {},
   "outputs": [
    {
     "name": "stdout",
     "output_type": "stream",
     "text": [
      "Sat Mar  2 11:43:49 2024    restats\n",
      "\n",
      "         3814174 function calls (3701813 primitive calls) in 36.193 seconds\n",
      "\n",
      "   Ordered by: cumulative time\n",
      "\n",
      "   ncalls  tottime  percall  cumtime  percall filename:lineno(function)\n",
      "        1    0.000    0.000   36.193   36.193 {built-in method builtins.exec}\n",
      "        1    0.573    0.573   36.193   36.193 <string>:1(<module>)\n",
      "        1    1.339    1.339   35.619   35.619 /var/folders/5f/tb__hdld7xq1_6ks4_y00w8h0000gn/T/ipykernel_8988/2148921207.py:1(T)\n",
      "        5    0.000    0.000   15.807    3.161 /Library/Frameworks/Python.framework/Versions/3.10/lib/python3.10/site-packages/scipy/sparse/_coo.py:132(__init__)\n",
      "        1    0.202    0.202   11.703   11.703 /var/folders/5f/tb__hdld7xq1_6ks4_y00w8h0000gn/T/ipykernel_8988/3442008535.py:1(find_all_ancestors5_optimized)\n",
      "      200    9.240    0.046    9.240    0.046 {built-in method numpy.asarray}\n",
      "       54    0.019    0.000    7.321    0.136 /Library/Frameworks/Python.framework/Versions/3.10/lib/python3.10/site-packages/scipy/sparse/_base.py:1269(_get_index_dtype)\n",
      "       55    0.018    0.000    7.302    0.133 /Library/Frameworks/Python.framework/Versions/3.10/lib/python3.10/site-packages/scipy/sparse/_sputils.py:147(get_index_dtype)\n",
      "   193293    7.267    0.000    7.267    0.000 {method 'update' of 'set' objects}\n",
      "       57    6.509    0.114    6.509    0.114 {built-in method numpy.array}\n",
      "        1    3.755    3.755    3.755    3.755 /var/folders/5f/tb__hdld7xq1_6ks4_y00w8h0000gn/T/ipykernel_8988/3442008535.py:12(<listcomp>)\n",
      "        2    0.000    0.000    3.398    1.699 /Library/Frameworks/Python.framework/Versions/3.10/lib/python3.10/site-packages/scipy/sparse/_base.py:457(__add__)\n",
      "        1    0.033    0.033    2.599    2.599 /Library/Frameworks/Python.framework/Versions/3.10/lib/python3.10/site-packages/scipy/sparse/_base.py:441(_add_sparse)\n",
      "        5    0.000    0.000    2.568    0.514 /Library/Frameworks/Python.framework/Versions/3.10/lib/python3.10/site-packages/scipy/sparse/_sputils.py:135(getdata)\n",
      "  151/149    0.001    0.000    2.080    0.014 {built-in method numpy.core._multiarray_umath.implement_array_function}\n",
      "       20    0.000    0.000    2.079    0.104 /Library/Frameworks/Python.framework/Versions/3.10/lib/python3.10/site-packages/scipy/sparse/_sputils.py:238(isshape)\n",
      "        6    0.000    0.000    2.079    0.346 /Library/Frameworks/Python.framework/Versions/3.10/lib/python3.10/site-packages/scipy/sparse/_sputils.py:216(isintlike)\n",
      "        6    0.000    0.000    2.079    0.346 <__array_function__ internals>:177(ndim)\n",
      "        6    0.021    0.004    2.079    0.346 /Library/Frameworks/Python.framework/Versions/3.10/lib/python3.10/site-packages/numpy/core/fromnumeric.py:3121(ndim)\n",
      "        5    0.009    0.002    2.019    0.404 /Library/Frameworks/Python.framework/Versions/3.10/lib/python3.10/site-packages/networkx/utils/backends.py:409(__call__)\n",
      "        4    0.000    0.000    1.970    0.492 /Library/Frameworks/Python.framework/Versions/3.10/lib/python3.10/site-packages/scipy/sparse/_coo.py:380(tocsr)\n",
      "        4    0.000    0.000    1.546    0.387 /Library/Frameworks/Python.framework/Versions/3.10/lib/python3.10/site-packages/scipy/sparse/_compressed.py:1110(sum_duplicates)\n",
      "        2    0.000    0.000    1.443    0.721 /Library/Frameworks/Python.framework/Versions/3.10/lib/python3.10/site-packages/scipy/sparse/_compressed.py:1158(sort_indices)\n",
      "        2    1.443    0.721    1.443    0.721 {built-in method scipy.sparse._sparsetools.csr_sort_indices}\n",
      "        2    0.021    0.010    1.405    0.703 /Library/Frameworks/Python.framework/Versions/3.10/lib/python3.10/site-packages/scipy/sparse/_compressed.py:358(_add_sparse)\n",
      "        2    0.017    0.009    1.385    0.692 /Library/Frameworks/Python.framework/Versions/3.10/lib/python3.10/site-packages/scipy/sparse/_compressed.py:1237(_binopt)\n",
      "        1    0.716    0.716    1.145    1.145 /Library/Frameworks/Python.framework/Versions/3.10/lib/python3.10/site-packages/networkx/convert_matrix.py:486(to_scipy_sparse_array)\n",
      "        2    1.071    0.535    1.071    0.535 {built-in method scipy.sparse._sparsetools.csr_plus_csr}\n",
      "        1    0.000    0.000    0.865    0.865 <class 'networkx.utils.decorators.argmap'> compilation 20:1(argmap_condensation_17)\n",
      "        1    0.012    0.012    0.865    0.865 /Library/Frameworks/Python.framework/Versions/3.10/lib/python3.10/site-packages/networkx/algorithms/components/strongly_connected.py:349(condensation)\n",
      "        1    0.404    0.404    0.793    0.793 /Library/Frameworks/Python.framework/Versions/3.10/lib/python3.10/site-packages/networkx/classes/digraph.py:713(add_edges_from)\n",
      "    67410    0.694    0.000    0.694    0.000 {method 'extend' of 'list' objects}\n",
      "   342006    0.306    0.000    0.443    0.000 /Library/Frameworks/Python.framework/Versions/3.10/lib/python3.10/site-packages/networkx/classes/reportviews.py:947(<genexpr>)\n",
      "        4    0.422    0.106    0.422    0.106 {built-in method scipy.sparse._sparsetools.coo_tocsr}\n",
      "    22471    0.194    0.000    0.383    0.000 /Library/Frameworks/Python.framework/Versions/3.10/lib/python3.10/site-packages/networkx/algorithms/components/strongly_connected.py:15(strongly_connected_components)\n",
      "   171003    0.103    0.000    0.352    0.000 /Library/Frameworks/Python.framework/Versions/3.10/lib/python3.10/site-packages/networkx/convert_matrix.py:590(<genexpr>)\n",
      "  67411/1    0.138    0.000    0.324    0.324 /Library/Frameworks/Python.framework/Versions/3.10/lib/python3.10/copy.py:128(deepcopy)\n",
      "  22471/1    0.038    0.000    0.324    0.324 /Library/Frameworks/Python.framework/Versions/3.10/lib/python3.10/copy.py:201(_deepcopy_list)\n",
      "   170824    0.118    0.000    0.311    0.000 /Library/Frameworks/Python.framework/Versions/3.10/lib/python3.10/site-packages/networkx/algorithms/components/strongly_connected.py:426(<genexpr>)\n",
      "       34    0.291    0.009    0.291    0.009 {method 'reduce' of 'numpy.ufunc' objects}\n",
      "        4    0.181    0.045    0.274    0.068 /Library/Frameworks/Python.framework/Versions/3.10/lib/python3.10/site-packages/scipy/sparse/_data.py:125(_mul_scalar)\n",
      "        2    0.000    0.000    0.271    0.135 /Library/Frameworks/Python.framework/Versions/3.10/lib/python3.10/site-packages/scipy/sparse/_matrix.py:50(__rmul__)\n",
      "        2    0.000    0.000    0.271    0.135 /Library/Frameworks/Python.framework/Versions/3.10/lib/python3.10/site-packages/scipy/sparse/_base.py:599(_rmul_dispatch)\n",
      "       16    0.000    0.000    0.191    0.012 {method 'max' of 'numpy.ndarray' objects}\n",
      "       16    0.000    0.000    0.191    0.012 /Library/Frameworks/Python.framework/Versions/3.10/lib/python3.10/site-packages/numpy/core/_methods.py:38(_amax)\n",
      "    22470    0.036    0.000    0.185    0.000 /Library/Frameworks/Python.framework/Versions/3.10/lib/python3.10/copy.py:259(_reconstruct)\n",
      "    20/15    0.000    0.000    0.151    0.010 /Library/Frameworks/Python.framework/Versions/3.10/lib/python3.10/site-packages/scipy/sparse/_compressed.py:25(__init__)\n",
      "    44940    0.011    0.000    0.146    0.000 /Library/Frameworks/Python.framework/Versions/3.10/lib/python3.10/copy.py:264(<genexpr>)\n",
      "    22471    0.007    0.000    0.132    0.000 /Library/Frameworks/Python.framework/Versions/3.10/lib/python3.10/site-packages/networkx/algorithms/dag.py:244(topological_sort)\n",
      "      135    0.077    0.001    0.125    0.001 /Library/Frameworks/Python.framework/Versions/3.10/lib/python3.10/site-packages/networkx/algorithms/dag.py:166(topological_generations)\n",
      "        2    0.103    0.052    0.103    0.052 {built-in method scipy.sparse._sparsetools.csr_sum_duplicates}\n",
      "       16    0.000    0.000    0.099    0.006 {method 'min' of 'numpy.ndarray' objects}\n",
      "       16    0.000    0.000    0.099    0.006 /Library/Frameworks/Python.framework/Versions/3.10/lib/python3.10/site-packages/numpy/core/_methods.py:42(_amin)\n",
      "        3    0.000    0.000    0.093    0.031 /Library/Frameworks/Python.framework/Versions/3.10/lib/python3.10/site-packages/scipy/sparse/_compressed.py:1223(_with_data)\n",
      "        8    0.092    0.012    0.092    0.012 {method 'copy' of 'numpy.ndarray' objects}\n",
      "    44940    0.034    0.000    0.090    0.000 /Library/Frameworks/Python.framework/Versions/3.10/lib/python3.10/site-packages/networkx/classes/graph.py:489(__getitem__)\n",
      "        1    0.023    0.023    0.082    0.082 /Library/Frameworks/Python.framework/Versions/3.10/lib/python3.10/site-packages/networkx/algorithms/components/strongly_connected.py:79(<dictcomp>)\n",
      "   386947    0.070    0.000    0.070    0.000 {method 'items' of 'dict' objects}\n",
      "        1    0.008    0.008    0.068    0.068 /Library/Frameworks/Python.framework/Versions/3.10/lib/python3.10/site-packages/fast_pagerank/fast_pagerank.py:68(pagerank_power)\n",
      "   386587    0.055    0.000    0.063    0.000 {method 'update' of 'dict' objects}\n",
      "    44940    0.043    0.000    0.056    0.000 /Library/Frameworks/Python.framework/Versions/3.10/lib/python3.10/site-packages/networkx/classes/coreviews.py:102(__getitem__)\n",
      "112355/89885    0.038    0.000    0.046    0.000 {built-in method builtins.iter}\n",
      "   171002    0.044    0.000    0.044    0.000 /Library/Frameworks/Python.framework/Versions/3.10/lib/python3.10/site-packages/networkx/classes/reportviews.py:938(<lambda>)\n",
      "        5    0.000    0.000    0.043    0.009 /Library/Frameworks/Python.framework/Versions/3.10/lib/python3.10/site-packages/scipy/sparse/_coo.py:273(_check)\n",
      "   328167    0.041    0.000    0.041    0.000 {method 'get' of 'dict' objects}\n",
      "    44940    0.017    0.000    0.039    0.000 /Library/Frameworks/Python.framework/Versions/3.10/lib/python3.10/site-packages/networkx/classes/coreviews.py:49(__iter__)\n",
      "    44941    0.025    0.000    0.034    0.000 /Library/Frameworks/Python.framework/Versions/3.10/lib/python3.10/copy.py:243(_keep_alive)\n",
      "        1    0.031    0.031    0.031    0.031 {built-in method builtins.sum}\n",
      "        1    0.022    0.022    0.025    0.025 /Library/Frameworks/Python.framework/Versions/3.10/lib/python3.10/site-packages/networkx/classes/digraph.py:469(add_nodes_from)\n",
      "   127101    0.024    0.000    0.024    0.000 {method 'append' of 'list' objects}\n",
      "       40    0.000    0.000    0.024    0.001 /Library/Frameworks/Python.framework/Versions/3.10/lib/python3.10/site-packages/scipy/sparse/_base.py:620(__matmul__)\n",
      "   171002    0.024    0.000    0.024    0.000 /Library/Frameworks/Python.framework/Versions/3.10/lib/python3.10/site-packages/networkx/classes/reportviews.py:928(<lambda>)\n",
      "       40    0.000    0.000    0.024    0.001 /Library/Frameworks/Python.framework/Versions/3.10/lib/python3.10/site-packages/scipy/sparse/_base.py:505(_mul_dispatch)\n",
      "    22470    0.019    0.000    0.022    0.000 /Library/Frameworks/Python.framework/Versions/3.10/lib/python3.10/site-packages/networkx/classes/digraph.py:906(predecessors)\n",
      "238608/238604    0.021    0.000    0.021    0.000 {built-in method builtins.len}\n",
      "       39    0.000    0.000    0.021    0.001 /Library/Frameworks/Python.framework/Versions/3.10/lib/python3.10/site-packages/scipy/sparse/_compressed.py:479(_mul_vector)\n",
      "       39    0.020    0.001    0.020    0.001 {built-in method scipy.sparse._sparsetools.csc_matvec}\n",
      "    44942    0.015    0.000    0.018    0.000 /Library/Frameworks/Python.framework/Versions/3.10/lib/python3.10/site-packages/networkx/classes/reportviews.py:575(__iter__)\n",
      "   157294    0.018    0.000    0.018    0.000 {built-in method builtins.id}\n",
      "        1    0.008    0.008    0.017    0.017 /Library/Frameworks/Python.framework/Versions/3.10/lib/python3.10/site-packages/networkx/classes/function.py:552(set_node_attributes)\n",
      "        6    0.000    0.000    0.015    0.002 /Library/Frameworks/Python.framework/Versions/3.10/lib/python3.10/site-packages/scipy/sparse/_base.py:343(asformat)\n",
      "        1    0.004    0.004    0.014    0.014 /Library/Frameworks/Python.framework/Versions/3.10/lib/python3.10/site-packages/networkx/algorithms/dag.py:220(<listcomp>)\n",
      "        1    0.005    0.005    0.013    0.013 /Library/Frameworks/Python.framework/Versions/3.10/lib/python3.10/site-packages/networkx/algorithms/dag.py:219(<dictcomp>)\n",
      "    44940    0.013    0.000    0.013    0.000 /Library/Frameworks/Python.framework/Versions/3.10/lib/python3.10/site-packages/networkx/classes/coreviews.py:43(__init__)\n",
      "    22470    0.010    0.000    0.012    0.000 /Library/Frameworks/Python.framework/Versions/3.10/lib/python3.10/site-packages/networkx/classes/digraph.py:874(successors)\n",
      "    22470    0.011    0.000    0.011    0.000 {method '__reduce_ex__' of 'object' objects}\n",
      "        1    0.009    0.009    0.009    0.009 /var/folders/5f/tb__hdld7xq1_6ks4_y00w8h0000gn/T/ipykernel_8988/3442008535.py:3(<dictcomp>)\n",
      "    22470    0.006    0.000    0.009    0.000 /Library/Frameworks/Python.framework/Versions/3.10/lib/python3.10/site-packages/networkx/classes/reportviews.py:188(__getitem__)\n",
      "    44940    0.008    0.000    0.008    0.000 /Library/Frameworks/Python.framework/Versions/3.10/lib/python3.10/site-packages/networkx/algorithms/components/strongly_connected.py:423(<genexpr>)\n",
      "    44993    0.007    0.000    0.007    0.000 {built-in method builtins.getattr}\n",
      "    22470    0.007    0.000    0.007    0.000 /Library/Frameworks/Python.framework/Versions/3.10/lib/python3.10/site-packages/networkx/classes/graph.py:453(__contains__)\n",
      "    45172    0.006    0.000    0.006    0.000 {built-in method builtins.isinstance}\n",
      "    22470    0.005    0.000    0.005    0.000 {method 'pop' of 'list' objects}\n",
      "        1    0.000    0.000    0.003    0.003 /Library/Frameworks/Python.framework/Versions/3.10/lib/python3.10/site-packages/scipy/sparse/_csc.py:136(tocsr)\n",
      "    22470    0.003    0.000    0.003    0.000 /Library/Frameworks/Python.framework/Versions/3.10/lib/python3.10/copy.py:182(_deepcopy_atomic)\n",
      "    22568    0.003    0.000    0.003    0.000 {built-in method builtins.issubclass}\n",
      "        2    0.000    0.000    0.003    0.001 /Library/Frameworks/Python.framework/Versions/3.10/lib/python3.10/site-packages/scipy/sparse/_base.py:613(__rmul__)\n",
      "        2    0.000    0.000    0.003    0.001 /Library/Frameworks/Python.framework/Versions/3.10/lib/python3.10/site-packages/scipy/sparse/_compressed.py:364(multiply)\n",
      "        1    0.000    0.000    0.003    0.003 /Library/Frameworks/Python.framework/Versions/3.10/lib/python3.10/site-packages/scipy/sparse/_compressed.py:506(_mul_sparse_matrix)\n",
      "        1    0.002    0.002    0.002    0.002 {built-in method scipy.sparse._sparsetools.csc_tocsr}\n",
      "        2    0.001    0.001    0.001    0.001 {method 'nonzero' of 'numpy.ndarray' objects}\n",
      "       20    0.000    0.000    0.001    0.000 /Library/Frameworks/Python.framework/Versions/3.10/lib/python3.10/site-packages/scipy/sparse/_compressed.py:135(check_format)\n",
      "        1    0.001    0.001    0.001    0.001 {built-in method scipy.sparse._sparsetools.csc_matmat}\n",
      "        1    0.000    0.000    0.001    0.001 /Library/Frameworks/Python.framework/Versions/3.10/lib/python3.10/site-packages/scipy/sparse/_compressed.py:598(sum)\n",
      "       16    0.001    0.000    0.001    0.000 {method 'astype' of 'numpy.ndarray' objects}\n",
      "        1    0.000    0.000    0.001    0.001 /Library/Frameworks/Python.framework/Versions/3.10/lib/python3.10/site-packages/scipy/sparse/_compressed.py:627(_minor_reduce)\n",
      "       40    0.000    0.000    0.001    0.000 <__array_function__ internals>:177(norm)\n",
      "       40    0.000    0.000    0.001    0.000 /Library/Frameworks/Python.framework/Versions/3.10/lib/python3.10/site-packages/numpy/linalg/linalg.py:2357(norm)\n",
      "        1    0.001    0.001    0.001    0.001 {method 'reduceat' of 'numpy.ufunc' objects}\n",
      "        1    0.001    0.001    0.001    0.001 {built-in method scipy.sparse._sparsetools.csc_matmat_maxnnz}\n",
      "       91    0.000    0.000    0.000    0.000 <__array_function__ internals>:177(can_cast)\n",
      "        1    0.000    0.000    0.000    0.000 /Library/Frameworks/Python.framework/Versions/3.10/lib/python3.10/site-packages/scipy/sparse/_csr.py:177(tocsc)\n",
      "       24    0.000    0.000    0.000    0.000 /Library/Frameworks/Python.framework/Versions/3.10/lib/python3.10/site-packages/scipy/sparse/_compressed.py:1167(prune)\n",
      "      110    0.000    0.000    0.000    0.000 /Library/Frameworks/Python.framework/Versions/3.10/lib/python3.10/site-packages/numpy/core/getlimits.py:648(__init__)\n",
      "       47    0.000    0.000    0.000    0.000 /Library/Frameworks/Python.framework/Versions/3.10/lib/python3.10/site-packages/scipy/sparse/_sputils.py:211(isscalarlike)\n",
      "       26    0.000    0.000    0.000    0.000 /Library/Frameworks/Python.framework/Versions/3.10/lib/python3.10/site-packages/scipy/sparse/_sputils.py:294(check_shape)\n",
      "       40    0.000    0.000    0.000    0.000 {method 'dot' of 'numpy.ndarray' objects}\n",
      "        1    0.000    0.000    0.000    0.000 /Library/Frameworks/Python.framework/Versions/3.10/lib/python3.10/site-packages/scipy/sparse/_construct.py:229(eye)\n",
      "       41    0.000    0.000    0.000    0.000 {built-in method numpy.zeros}\n",
      "       47    0.000    0.000    0.000    0.000 /Library/Frameworks/Python.framework/Versions/3.10/lib/python3.10/site-packages/numpy/core/numeric.py:1873(isscalar)\n",
      "      123    0.000    0.000    0.000    0.000 /Library/Frameworks/Python.framework/Versions/3.10/lib/python3.10/site-packages/scipy/sparse/_base.py:286(nnz)\n",
      "        1    0.000    0.000    0.000    0.000 <__array_function__ internals>:177(flatnonzero)\n",
      "        1    0.000    0.000    0.000    0.000 /Library/Frameworks/Python.framework/Versions/3.10/lib/python3.10/site-packages/numpy/core/numeric.py:631(flatnonzero)\n",
      "        1    0.000    0.000    0.000    0.000 <class 'networkx.utils.decorators.argmap'> compilation 16:1(argmap_strongly_connected_components_13)\n",
      "      179    0.000    0.000    0.000    0.000 {built-in method builtins.min}\n",
      "        1    0.000    0.000    0.000    0.000 {built-in method scipy.sparse._sparsetools.csr_tocsc}\n",
      "        2    0.000    0.000    0.000    0.000 /Library/Frameworks/Python.framework/Versions/3.10/lib/python3.10/site-packages/scipy/sparse/_base.py:725(T)\n",
      "        2    0.000    0.000    0.000    0.000 /Library/Frameworks/Python.framework/Versions/3.10/lib/python3.10/site-packages/scipy/sparse/_csr.py:140(transpose)\n",
      "        1    0.000    0.000    0.000    0.000 <__array_function__ internals>:177(nonzero)\n",
      "        1    0.000    0.000    0.000    0.000 /Library/Frameworks/Python.framework/Versions/3.10/lib/python3.10/site-packages/numpy/core/fromnumeric.py:1866(nonzero)\n",
      "        1    0.000    0.000    0.000    0.000 /Library/Frameworks/Python.framework/Versions/3.10/lib/python3.10/site-packages/numpy/core/fromnumeric.py:51(_wrapfunc)\n",
      "        8    0.000    0.000    0.000    0.000 <__array_function__ internals>:177(empty_like)\n",
      "       21    0.000    0.000    0.000    0.000 {built-in method numpy.empty}\n",
      "       63    0.000    0.000    0.000    0.000 <frozen importlib._bootstrap>:404(parent)\n",
      "        1    0.000    0.000    0.000    0.000 /Library/Frameworks/Python.framework/Versions/3.10/lib/python3.10/site-packages/scipy/sparse/_coo.py:518(_with_data)\n",
      "        3    0.000    0.000    0.000    0.000 /Library/Frameworks/Python.framework/Versions/3.10/lib/python3.10/site-packages/scipy/sparse/_matrix.py:26(_csr_container)\n",
      "       25    0.000    0.000    0.000    0.000 /Library/Frameworks/Python.framework/Versions/3.10/lib/python3.10/site-packages/scipy/sparse/_data.py:20(__init__)\n",
      "        4    0.000    0.000    0.000    0.000 /Library/Frameworks/Python.framework/Versions/3.10/lib/python3.10/site-packages/scipy/sparse/_compressed.py:1080(__get_has_canonical_format)\n",
      "        2    0.000    0.000    0.000    0.000 {method 'sum' of 'numpy.ndarray' objects}\n",
      "        2    0.000    0.000    0.000    0.000 /Library/Frameworks/Python.framework/Versions/3.10/lib/python3.10/site-packages/numpy/core/_methods.py:46(_sum)\n",
      "       43    0.000    0.000    0.000    0.000 /Library/Frameworks/Python.framework/Versions/3.10/lib/python3.10/abc.py:117(__instancecheck__)\n",
      "       78    0.000    0.000    0.000    0.000 /Library/Frameworks/Python.framework/Versions/3.10/lib/python3.10/site-packages/scipy/sparse/_sputils.py:307(<genexpr>)\n",
      "       17    0.000    0.000    0.000    0.000 /Library/Frameworks/Python.framework/Versions/3.10/lib/python3.10/site-packages/scipy/sparse/_coo.py:247(_getnnz)\n",
      "      106    0.000    0.000    0.000    0.000 /Library/Frameworks/Python.framework/Versions/3.10/lib/python3.10/site-packages/scipy/sparse/_compressed.py:107(_getnnz)\n",
      "       55    0.000    0.000    0.000    0.000 /Library/Frameworks/Python.framework/Versions/3.10/lib/python3.10/site-packages/numpy/core/getlimits.py:659(min)\n",
      "       42    0.000    0.000    0.000    0.000 {method 'reshape' of 'numpy.ndarray' objects}\n",
      "        6    0.000    0.000    0.000    0.000 /Library/Frameworks/Python.framework/Versions/3.10/lib/python3.10/site-packages/scipy/sparse/_compressed.py:124(_set_self)\n",
      "       26    0.000    0.000    0.000    0.000 {built-in method builtins.any}\n",
      "       25    0.000    0.000    0.000    0.000 /Library/Frameworks/Python.framework/Versions/3.10/lib/python3.10/site-packages/scipy/sparse/_base.py:108(__init__)\n",
      "        1    0.000    0.000    0.000    0.000 <__array_function__ internals>:177(diff)\n",
      "        4    0.000    0.000    0.000    0.000 {built-in method scipy.sparse._sparsetools.csr_has_canonical_format}\n",
      "       43    0.000    0.000    0.000    0.000 {built-in method _abc._abc_instancecheck}\n",
      "       80    0.000    0.000    0.000    0.000 {method 'ravel' of 'numpy.ndarray' objects}\n",
      "        1    0.000    0.000    0.000    0.000 /Library/Frameworks/Python.framework/Versions/3.10/lib/python3.10/site-packages/numpy/lib/function_base.py:1319(diff)\n",
      "        6    0.000    0.000    0.000    0.000 /Library/Frameworks/Python.framework/Versions/3.10/lib/python3.10/site-packages/numpy/core/numerictypes.py:356(issubdtype)\n",
      "        2    0.000    0.000    0.000    0.000 /Library/Frameworks/Python.framework/Versions/3.10/lib/python3.10/site-packages/numpy/core/numeric.py:149(ones)\n",
      "       39    0.000    0.000    0.000    0.000 /Library/Frameworks/Python.framework/Versions/3.10/lib/python3.10/site-packages/scipy/sparse/_sputils.py:56(upcast_char)\n",
      "       48    0.000    0.000    0.000    0.000 /Library/Frameworks/Python.framework/Versions/3.10/lib/python3.10/site-packages/scipy/_lib/_util.py:144(_prune_array)\n",
      "       55    0.000    0.000    0.000    0.000 /Library/Frameworks/Python.framework/Versions/3.10/lib/python3.10/site-packages/numpy/core/getlimits.py:672(max)\n",
      "       77    0.000    0.000    0.000    0.000 /Library/Frameworks/Python.framework/Versions/3.10/lib/python3.10/site-packages/scipy/sparse/_matrix.py:90(get_shape)\n",
      "        2    0.000    0.000    0.000    0.000 <__array_function__ internals>:177(copyto)\n",
      "       30    0.000    0.000    0.000    0.000 {built-in method builtins.max}\n",
      "        2    0.000    0.000    0.000    0.000 /Library/Frameworks/Python.framework/Versions/3.10/lib/python3.10/functools.py:961(__get__)\n",
      "       23    0.000    0.000    0.000    0.000 /Library/Frameworks/Python.framework/Versions/3.10/lib/python3.10/site-packages/scipy/sparse/_base.py:1461(issparse)\n",
      "        9    0.000    0.000    0.000    0.000 /Library/Frameworks/Python.framework/Versions/3.10/lib/python3.10/site-packages/scipy/sparse/_sputils.py:22(upcast)\n",
      "      115    0.000    0.000    0.000    0.000 /Library/Frameworks/Python.framework/Versions/3.10/lib/python3.10/site-packages/scipy/sparse/_base.py:1331(<lambda>)\n",
      "       12    0.000    0.000    0.000    0.000 /Library/Frameworks/Python.framework/Versions/3.10/lib/python3.10/site-packages/numpy/core/numerictypes.py:282(issubclass_)\n",
      "       43    0.000    0.000    0.000    0.000 /Library/Frameworks/Python.framework/Versions/3.10/lib/python3.10/site-packages/scipy/sparse/_sputils.py:267(isdense)\n",
      "        5    0.000    0.000    0.000    0.000 /Library/Frameworks/Python.framework/Versions/3.10/lib/python3.10/site-packages/scipy/sparse/_sputils.py:109(getdtype)\n",
      "       25    0.000    0.000    0.000    0.000 /Library/Frameworks/Python.framework/Versions/3.10/lib/python3.10/site-packages/scipy/sparse/_sputils.py:93(to_native)\n",
      "       63    0.000    0.000    0.000    0.000 {method 'rpartition' of 'str' objects}\n",
      "        2    0.000    0.000    0.000    0.000 /Library/Frameworks/Python.framework/Versions/3.10/lib/python3.10/site-packages/scipy/sparse/_base.py:86(_csr_container)\n",
      "       40    0.000    0.000    0.000    0.000 /Library/Frameworks/Python.framework/Versions/3.10/lib/python3.10/site-packages/numpy/linalg/linalg.py:117(isComplexType)\n",
      "       66    0.000    0.000    0.000    0.000 /Library/Frameworks/Python.framework/Versions/3.10/lib/python3.10/site-packages/scipy/sparse/_base.py:296(format)\n",
      "        2    0.000    0.000    0.000    0.000 /Library/Frameworks/Python.framework/Versions/3.10/lib/python3.10/site-packages/networkx/classes/reportviews.py:1355(__call__)\n",
      "       52    0.000    0.000    0.000    0.000 /Library/Frameworks/Python.framework/Versions/3.10/lib/python3.10/site-packages/scipy/sparse/_data.py:23(_get_dtype)\n",
      "        1    0.000    0.000    0.000    0.000 /Library/Frameworks/Python.framework/Versions/3.10/lib/python3.10/site-packages/scipy/sparse/_sputils.py:202(get_sum_dtype)\n",
      "       91    0.000    0.000    0.000    0.000 /Library/Frameworks/Python.framework/Versions/3.10/lib/python3.10/site-packages/numpy/core/multiarray.py:498(can_cast)\n",
      "        2    0.000    0.000    0.000    0.000 {built-in method numpy.arange}\n",
      "        1    0.000    0.000    0.000    0.000 /Library/Frameworks/Python.framework/Versions/3.10/lib/python3.10/site-packages/networkx/classes/digraph.py:316(__init__)\n",
      "       78    0.000    0.000    0.000    0.000 /Library/Frameworks/Python.framework/Versions/3.10/lib/python3.10/site-packages/scipy/sparse/_sputils.py:312(<genexpr>)\n",
      "        1    0.000    0.000    0.000    0.000 /Library/Frameworks/Python.framework/Versions/3.10/lib/python3.10/site-packages/scipy/sparse/_matrix.py:16(_coo_container)\n",
      "       40    0.000    0.000    0.000    0.000 /Library/Frameworks/Python.framework/Versions/3.10/lib/python3.10/site-packages/numpy/linalg/linalg.py:2353(_norm_dispatcher)\n",
      "        8    0.000    0.000    0.000    0.000 /Library/Frameworks/Python.framework/Versions/3.10/lib/python3.10/site-packages/scipy/sparse/_compressed.py:1142(__set_sorted)\n",
      "        2    0.000    0.000    0.000    0.000 /Library/Frameworks/Python.framework/Versions/3.10/lib/python3.10/site-packages/networkx/classes/reportviews.py:905(__init__)\n",
      "        6    0.000    0.000    0.000    0.000 /Library/Frameworks/Python.framework/Versions/3.10/lib/python3.10/site-packages/scipy/sparse/_compressed.py:1102(__set_has_canonical_format)\n",
      "        2    0.000    0.000    0.000    0.000 /Library/Frameworks/Python.framework/Versions/3.10/lib/python3.10/site-packages/scipy/sparse/_base.py:81(_csc_container)\n",
      "       52    0.000    0.000    0.000    0.000 {built-in method _operator.index}\n",
      "        2    0.000    0.000    0.000    0.000 /Library/Frameworks/Python.framework/Versions/3.10/lib/python3.10/site-packages/networkx/classes/reportviews.py:946(__iter__)\n",
      "        2    0.000    0.000    0.000    0.000 /Library/Frameworks/Python.framework/Versions/3.10/lib/python3.10/site-packages/networkx/utils/decorators.py:86(_not_implemented_for)\n",
      "        1    0.000    0.000    0.000    0.000 <__array_function__ internals>:177(ravel)\n",
      "        2    0.000    0.000    0.000    0.000 /Library/Frameworks/Python.framework/Versions/3.10/lib/python3.10/site-packages/scipy/sparse/_compressed.py:1126(__get_sorted)\n",
      "        1    0.000    0.000    0.000    0.000 /Library/Frameworks/Python.framework/Versions/3.10/lib/python3.10/site-packages/networkx/classes/digraph.py:1085(in_degree)\n",
      "        1    0.000    0.000    0.000    0.000 /Library/Frameworks/Python.framework/Versions/3.10/lib/python3.10/site-packages/scipy/sparse/_matrix.py:21(_csc_container)\n",
      "        5    0.000    0.000    0.000    0.000 /Library/Frameworks/Python.framework/Versions/3.10/lib/python3.10/site-packages/networkx/classes/graph.py:467(__len__)\n",
      "       46    0.000    0.000    0.000    0.000 /Library/Frameworks/Python.framework/Versions/3.10/lib/python3.10/site-packages/scipy/sparse/_csr.py:236(_swap)\n",
      "        3    0.000    0.000    0.000    0.000 /Library/Frameworks/Python.framework/Versions/3.10/lib/python3.10/site-packages/networkx/classes/graph.py:435(__iter__)\n",
      "        9    0.000    0.000    0.000    0.000 {built-in method builtins.hasattr}\n",
      "       22    0.000    0.000    0.000    0.000 /Library/Frameworks/Python.framework/Versions/3.10/lib/python3.10/site-packages/scipy/sparse/_csc.py:234(_swap)\n",
      "        1    0.000    0.000    0.000    0.000 /Library/Frameworks/Python.framework/Versions/3.10/lib/python3.10/site-packages/numpy/core/fromnumeric.py:1755(ravel)\n",
      "        9    0.000    0.000    0.000    0.000 {built-in method builtins.hash}\n",
      "        1    0.000    0.000    0.000    0.000 /Library/Frameworks/Python.framework/Versions/3.10/lib/python3.10/site-packages/networkx/classes/graph.py:732(nodes)\n",
      "        1    0.000    0.000    0.000    0.000 /Library/Frameworks/Python.framework/Versions/3.10/lib/python3.10/site-packages/networkx/classes/reportviews.py:417(__init__)\n",
      "        2    0.000    0.000    0.000    0.000 /Library/Frameworks/Python.framework/Versions/3.10/lib/python3.10/site-packages/networkx/classes/reportviews.py:185(__iter__)\n",
      "        1    0.000    0.000    0.000    0.000 /Library/Frameworks/Python.framework/Versions/3.10/lib/python3.10/site-packages/scipy/sparse/_sputils.py:73(downcast_intp_index)\n",
      "        1    0.000    0.000    0.000    0.000 /Library/Frameworks/Python.framework/Versions/3.10/lib/python3.10/site-packages/scipy/sparse/_base.py:221(_ascontainer)\n",
      "        3    0.000    0.000    0.000    0.000 /Library/Frameworks/Python.framework/Versions/3.10/lib/python3.10/site-packages/networkx/classes/multidigraph.py:862(is_directed)\n",
      "        6    0.000    0.000    0.000    0.000 /Library/Frameworks/Python.framework/Versions/3.10/lib/python3.10/site-packages/numpy/core/fromnumeric.py:3117(_ndim_dispatcher)\n",
      "        2    0.000    0.000    0.000    0.000 {built-in method scipy.sparse._sparsetools.csr_has_sorted_indices}\n",
      "        2    0.000    0.000    0.000    0.000 /Library/Frameworks/Python.framework/Versions/3.10/lib/python3.10/site-packages/networkx/classes/reportviews.py:424(__call__)\n",
      "        1    0.000    0.000    0.000    0.000 /Library/Frameworks/Python.framework/Versions/3.10/lib/python3.10/site-packages/networkx/classes/graph.py:59(__set__)\n",
      "        8    0.000    0.000    0.000    0.000 /Library/Frameworks/Python.framework/Versions/3.10/lib/python3.10/site-packages/numpy/core/multiarray.py:80(empty_like)\n",
      "        1    0.000    0.000    0.000    0.000 /Library/Frameworks/Python.framework/Versions/3.10/lib/python3.10/site-packages/networkx/classes/reportviews.py:178(__init__)\n",
      "        2    0.000    0.000    0.000    0.000 {method '__exit__' of '_thread.RLock' objects}\n",
      "        1    0.000    0.000    0.000    0.000 /Library/Frameworks/Python.framework/Versions/3.10/lib/python3.10/site-packages/networkx/classes/digraph.py:37(__set__)\n",
      "        1    0.000    0.000    0.000    0.000 {method 'disable' of '_lsprof.Profiler' objects}\n",
      "        1    0.000    0.000    0.000    0.000 /Library/Frameworks/Python.framework/Versions/3.10/lib/python3.10/site-packages/networkx/classes/digraph.py:63(__set__)\n",
      "        2    0.000    0.000    0.000    0.000 {built-in method numpy.asanyarray}\n",
      "        2    0.000    0.000    0.000    0.000 /Library/Frameworks/Python.framework/Versions/3.10/lib/python3.10/site-packages/numpy/core/multiarray.py:1071(copyto)\n",
      "        1    0.000    0.000    0.000    0.000 /Library/Frameworks/Python.framework/Versions/3.10/lib/python3.10/site-packages/networkx/classes/reportviews.py:205(__call__)\n",
      "        1    0.000    0.000    0.000    0.000 /Library/Frameworks/Python.framework/Versions/3.10/lib/python3.10/site-packages/scipy/sparse/_base.py:698(__iadd__)\n",
      "        1    0.000    0.000    0.000    0.000 /Library/Frameworks/Python.framework/Versions/3.10/lib/python3.10/site-packages/numpy/lib/function_base.py:1315(_diff_dispatcher)\n",
      "        1    0.000    0.000    0.000    0.000 {built-in method numpy.core._multiarray_umath.normalize_axis_index}\n",
      "        1    0.000    0.000    0.000    0.000 /Library/Frameworks/Python.framework/Versions/3.10/lib/python3.10/site-packages/networkx/classes/digraph.py:1221(is_directed)\n",
      "        1    0.000    0.000    0.000    0.000 /Library/Frameworks/Python.framework/Versions/3.10/lib/python3.10/site-packages/numpy/core/fromnumeric.py:1751(_ravel_dispatcher)\n",
      "        1    0.000    0.000    0.000    0.000 /Library/Frameworks/Python.framework/Versions/3.10/lib/python3.10/site-packages/numpy/core/numeric.py:627(_flatnonzero_dispatcher)\n",
      "        1    0.000    0.000    0.000    0.000 /Library/Frameworks/Python.framework/Versions/3.10/lib/python3.10/site-packages/numpy/core/fromnumeric.py:1862(_nonzero_dispatcher)\n",
      "        1    0.000    0.000    0.000    0.000 /Library/Frameworks/Python.framework/Versions/3.10/lib/python3.10/site-packages/networkx/classes/digraph.py:1217(is_multigraph)\n",
      "\n",
      "\n"
     ]
    },
    {
     "data": {
      "text/plain": [
       "<pstats.Stats at 0x12c7434f0>"
      ]
     },
     "execution_count": 105,
     "metadata": {},
     "output_type": "execute_result"
    }
   ],
   "source": [
    "slow = pstats.Stats('restats')\n",
    "slow.sort_stats('cumulative').print_stats()"
   ]
  },
  {
   "cell_type": "code",
   "execution_count": 104,
   "metadata": {},
   "outputs": [],
   "source": [
    "cProfile.run('T(fb_graph, 0.85)', 'restats')"
   ]
  },
  {
   "cell_type": "code",
   "execution_count": 93,
   "metadata": {},
   "outputs": [
    {
     "name": "stdout",
     "output_type": "stream",
     "text": [
      "Sat Mar  2 11:37:44 2024    restats\n",
      "\n",
      "         3072661 function calls (3050179 primitive calls) in 2.743 seconds\n",
      "\n",
      "   Ordered by: cumulative time\n",
      "\n",
      "   ncalls  tottime  percall  cumtime  percall filename:lineno(function)\n",
      "        1    0.000    0.000    2.743    2.743 {built-in method builtins.exec}\n",
      "        1    0.005    0.005    2.743    2.743 <string>:1(<module>)\n",
      "        1    0.048    0.048    2.738    2.738 /var/folders/5f/tb__hdld7xq1_6ks4_y00w8h0000gn/T/ipykernel_8988/3503103258.py:1(Fast)\n",
      "        5    0.009    0.002    1.703    0.341 /Library/Frameworks/Python.framework/Versions/3.10/lib/python3.10/site-packages/networkx/utils/backends.py:409(__call__)\n",
      "        1    0.437    0.437    0.870    0.870 /Library/Frameworks/Python.framework/Versions/3.10/lib/python3.10/site-packages/networkx/convert_matrix.py:486(to_scipy_sparse_array)\n",
      "        1    0.000    0.000    0.825    0.825 <class 'networkx.utils.decorators.argmap'> compilation 20:1(argmap_condensation_17)\n",
      "        1    0.010    0.010    0.825    0.825 /Library/Frameworks/Python.framework/Versions/3.10/lib/python3.10/site-packages/networkx/algorithms/components/strongly_connected.py:349(condensation)\n",
      "        1    0.376    0.376    0.757    0.757 /Library/Frameworks/Python.framework/Versions/3.10/lib/python3.10/site-packages/networkx/classes/digraph.py:713(add_edges_from)\n",
      "        1    0.112    0.112    0.653    0.653 /var/folders/5f/tb__hdld7xq1_6ks4_y00w8h0000gn/T/ipykernel_8988/1714008454.py:12(find_all_ancestors1)\n",
      "   342006    0.308    0.000    0.452    0.000 /Library/Frameworks/Python.framework/Versions/3.10/lib/python3.10/site-packages/networkx/classes/reportviews.py:947(<genexpr>)\n",
      "   171003    0.108    0.000    0.371    0.000 /Library/Frameworks/Python.framework/Versions/3.10/lib/python3.10/site-packages/networkx/convert_matrix.py:590(<genexpr>)\n",
      "        1    0.340    0.340    0.340    0.340 /var/folders/5f/tb__hdld7xq1_6ks4_y00w8h0000gn/T/ipykernel_8988/1714008454.py:14(<listcomp>)\n",
      "   170824    0.116    0.000    0.306    0.000 /Library/Frameworks/Python.framework/Versions/3.10/lib/python3.10/site-packages/networkx/algorithms/components/strongly_connected.py:426(<genexpr>)\n",
      "    22471    0.095    0.000    0.188    0.000 /Library/Frameworks/Python.framework/Versions/3.10/lib/python3.10/site-packages/networkx/algorithms/components/strongly_connected.py:15(strongly_connected_components)\n",
      "        5    0.000    0.000    0.122    0.024 /Library/Frameworks/Python.framework/Versions/3.10/lib/python3.10/site-packages/scipy/sparse/_coo.py:132(__init__)\n",
      "    22471    0.003    0.000    0.117    0.000 /Library/Frameworks/Python.framework/Versions/3.10/lib/python3.10/site-packages/networkx/algorithms/dag.py:244(topological_sort)\n",
      "      135    0.067    0.000    0.114    0.001 /Library/Frameworks/Python.framework/Versions/3.10/lib/python3.10/site-packages/networkx/algorithms/dag.py:166(topological_generations)\n",
      "   386947    0.071    0.000    0.071    0.000 {method 'items' of 'dict' objects}\n",
      "      200    0.067    0.000    0.067    0.000 {built-in method numpy.asarray}\n",
      "   386587    0.052    0.000    0.059    0.000 {method 'update' of 'dict' objects}\n",
      "       57    0.055    0.001    0.055    0.001 {built-in method numpy.array}\n",
      "   171002    0.050    0.000    0.050    0.000 /Library/Frameworks/Python.framework/Versions/3.10/lib/python3.10/site-packages/networkx/classes/reportviews.py:938(<lambda>)\n",
      "        1    0.011    0.011    0.047    0.047 /Library/Frameworks/Python.framework/Versions/3.10/lib/python3.10/site-packages/networkx/algorithms/components/strongly_connected.py:79(<dictcomp>)\n",
      "    44940    0.015    0.000    0.045    0.000 /Library/Frameworks/Python.framework/Versions/3.10/lib/python3.10/site-packages/networkx/classes/graph.py:489(__getitem__)\n",
      "       54    0.000    0.000    0.044    0.001 /Library/Frameworks/Python.framework/Versions/3.10/lib/python3.10/site-packages/scipy/sparse/_base.py:1269(_get_index_dtype)\n",
      "       55    0.001    0.000    0.044    0.001 /Library/Frameworks/Python.framework/Versions/3.10/lib/python3.10/site-packages/scipy/sparse/_sputils.py:147(get_index_dtype)\n",
      "   193293    0.040    0.000    0.040    0.000 {method 'update' of 'set' objects}\n",
      "        1    0.005    0.005    0.039    0.039 /Library/Frameworks/Python.framework/Versions/3.10/lib/python3.10/site-packages/fast_pagerank/fast_pagerank.py:68(pagerank_power)\n",
      "        1    0.032    0.032    0.032    0.032 /var/folders/5f/tb__hdld7xq1_6ks4_y00w8h0000gn/T/ipykernel_8988/1714008454.py:24(<listcomp>)\n",
      "    44940    0.022    0.000    0.030    0.000 /Library/Frameworks/Python.framework/Versions/3.10/lib/python3.10/site-packages/networkx/classes/coreviews.py:102(__getitem__)\n",
      "  151/149    0.000    0.000    0.025    0.000 {built-in method numpy.core._multiarray_umath.implement_array_function}\n",
      "112355/89885    0.020    0.000    0.025    0.000 {built-in method builtins.iter}\n",
      "        1    0.022    0.022    0.024    0.024 /Library/Frameworks/Python.framework/Versions/3.10/lib/python3.10/site-packages/networkx/classes/digraph.py:469(add_nodes_from)\n",
      "       20    0.000    0.000    0.024    0.001 /Library/Frameworks/Python.framework/Versions/3.10/lib/python3.10/site-packages/scipy/sparse/_sputils.py:238(isshape)\n",
      "        6    0.000    0.000    0.024    0.004 /Library/Frameworks/Python.framework/Versions/3.10/lib/python3.10/site-packages/scipy/sparse/_sputils.py:216(isintlike)\n",
      "        6    0.000    0.000    0.024    0.004 <__array_function__ internals>:177(ndim)\n",
      "        6    0.000    0.000    0.024    0.004 /Library/Frameworks/Python.framework/Versions/3.10/lib/python3.10/site-packages/numpy/core/fromnumeric.py:3121(ndim)\n",
      "   171002    0.024    0.000    0.024    0.000 /Library/Frameworks/Python.framework/Versions/3.10/lib/python3.10/site-packages/networkx/classes/reportviews.py:928(<lambda>)\n",
      "    44940    0.011    0.000    0.021    0.000 /Library/Frameworks/Python.framework/Versions/3.10/lib/python3.10/site-packages/networkx/classes/coreviews.py:49(__iter__)\n",
      "        5    0.000    0.000    0.021    0.004 /Library/Frameworks/Python.framework/Versions/3.10/lib/python3.10/site-packages/scipy/sparse/_sputils.py:135(getdata)\n",
      "        2    0.000    0.000    0.020    0.010 /Library/Frameworks/Python.framework/Versions/3.10/lib/python3.10/site-packages/scipy/sparse/_base.py:457(__add__)\n",
      "238610/238605    0.020    0.000    0.020    0.000 {built-in method builtins.len}\n",
      "    44942    0.017    0.000    0.020    0.000 /Library/Frameworks/Python.framework/Versions/3.10/lib/python3.10/site-packages/networkx/classes/reportviews.py:575(__iter__)\n",
      "   170875    0.019    0.000    0.019    0.000 {method 'get' of 'dict' objects}\n",
      "       40    0.000    0.000    0.018    0.000 /Library/Frameworks/Python.framework/Versions/3.10/lib/python3.10/site-packages/scipy/sparse/_base.py:620(__matmul__)\n",
      "       40    0.000    0.000    0.018    0.000 /Library/Frameworks/Python.framework/Versions/3.10/lib/python3.10/site-packages/scipy/sparse/_base.py:505(_mul_dispatch)\n",
      "        1    0.008    0.008    0.017    0.017 /Library/Frameworks/Python.framework/Versions/3.10/lib/python3.10/site-packages/networkx/classes/function.py:552(set_node_attributes)\n",
      "        4    0.000    0.000    0.016    0.004 /Library/Frameworks/Python.framework/Versions/3.10/lib/python3.10/site-packages/scipy/sparse/_coo.py:380(tocsr)\n",
      "    67410    0.015    0.000    0.015    0.000 {method 'extend' of 'list' objects}\n",
      "       39    0.000    0.000    0.015    0.000 /Library/Frameworks/Python.framework/Versions/3.10/lib/python3.10/site-packages/scipy/sparse/_compressed.py:479(_mul_vector)\n",
      "        1    0.005    0.005    0.015    0.015 /Library/Frameworks/Python.framework/Versions/3.10/lib/python3.10/site-packages/networkx/algorithms/dag.py:219(<dictcomp>)\n",
      "       39    0.014    0.000    0.014    0.000 {built-in method scipy.sparse._sparsetools.csc_matvec}\n",
      "        1    0.004    0.004    0.014    0.014 /Library/Frameworks/Python.framework/Versions/3.10/lib/python3.10/site-packages/networkx/algorithms/dag.py:220(<listcomp>)\n",
      "        2    0.000    0.000    0.012    0.006 /Library/Frameworks/Python.framework/Versions/3.10/lib/python3.10/site-packages/scipy/sparse/_compressed.py:358(_add_sparse)\n",
      "        2    0.000    0.000    0.012    0.006 /Library/Frameworks/Python.framework/Versions/3.10/lib/python3.10/site-packages/scipy/sparse/_compressed.py:1237(_binopt)\n",
      "    22470    0.010    0.000    0.012    0.000 /Library/Frameworks/Python.framework/Versions/3.10/lib/python3.10/site-packages/networkx/classes/digraph.py:906(predecessors)\n",
      "        4    0.000    0.000    0.012    0.003 /Library/Frameworks/Python.framework/Versions/3.10/lib/python3.10/site-packages/scipy/sparse/_compressed.py:1110(sum_duplicates)\n",
      "        1    0.012    0.012    0.012    0.012 {built-in method builtins.sum}\n",
      "    22470    0.009    0.000    0.011    0.000 /Library/Frameworks/Python.framework/Versions/3.10/lib/python3.10/site-packages/networkx/classes/digraph.py:874(successors)\n",
      "        2    0.000    0.000    0.011    0.005 /Library/Frameworks/Python.framework/Versions/3.10/lib/python3.10/site-packages/scipy/sparse/_compressed.py:1158(sort_indices)\n",
      "        2    0.011    0.005    0.011    0.005 {built-in method scipy.sparse._sparsetools.csr_sort_indices}\n",
      "        1    0.000    0.000    0.011    0.011 /Library/Frameworks/Python.framework/Versions/3.10/lib/python3.10/site-packages/scipy/sparse/_base.py:441(_add_sparse)\n",
      "        6    0.000    0.000    0.010    0.002 /Library/Frameworks/Python.framework/Versions/3.10/lib/python3.10/site-packages/scipy/sparse/_base.py:343(asformat)\n",
      "    22470    0.007    0.000    0.009    0.000 /Library/Frameworks/Python.framework/Versions/3.10/lib/python3.10/site-packages/networkx/classes/reportviews.py:188(__getitem__)\n",
      "        2    0.008    0.004    0.008    0.004 {built-in method scipy.sparse._sparsetools.csr_plus_csr}\n",
      "    44940    0.008    0.000    0.008    0.000 /Library/Frameworks/Python.framework/Versions/3.10/lib/python3.10/site-packages/networkx/classes/coreviews.py:43(__init__)\n",
      "    44940    0.007    0.000    0.007    0.000 /Library/Frameworks/Python.framework/Versions/3.10/lib/python3.10/site-packages/networkx/algorithms/components/strongly_connected.py:423(<genexpr>)\n",
      "    22470    0.006    0.000    0.006    0.000 /Library/Frameworks/Python.framework/Versions/3.10/lib/python3.10/site-packages/networkx/classes/graph.py:453(__contains__)\n",
      "    20/15    0.000    0.000    0.005    0.000 /Library/Frameworks/Python.framework/Versions/3.10/lib/python3.10/site-packages/scipy/sparse/_compressed.py:25(__init__)\n",
      "        1    0.005    0.005    0.005    0.005 /var/folders/5f/tb__hdld7xq1_6ks4_y00w8h0000gn/T/ipykernel_8988/1714008454.py:15(<dictcomp>)\n",
      "    37221    0.004    0.000    0.004    0.000 {method 'append' of 'list' objects}\n",
      "        4    0.004    0.001    0.004    0.001 {built-in method scipy.sparse._sparsetools.coo_tocsr}\n",
      "    22470    0.003    0.000    0.003    0.000 {method 'pop' of 'list' objects}\n",
      "        1    0.000    0.000    0.003    0.003 /Library/Frameworks/Python.framework/Versions/3.10/lib/python3.10/site-packages/scipy/sparse/_compressed.py:506(_mul_sparse_matrix)\n",
      "        4    0.001    0.000    0.002    0.001 /Library/Frameworks/Python.framework/Versions/3.10/lib/python3.10/site-packages/scipy/sparse/_data.py:125(_mul_scalar)\n",
      "    22702    0.002    0.000    0.002    0.000 {built-in method builtins.isinstance}\n",
      "        2    0.000    0.000    0.002    0.001 /Library/Frameworks/Python.framework/Versions/3.10/lib/python3.10/site-packages/scipy/sparse/_matrix.py:50(__rmul__)\n",
      "        2    0.000    0.000    0.002    0.001 /Library/Frameworks/Python.framework/Versions/3.10/lib/python3.10/site-packages/scipy/sparse/_base.py:599(_rmul_dispatch)\n",
      "        1    0.000    0.000    0.002    0.002 /Library/Frameworks/Python.framework/Versions/3.10/lib/python3.10/site-packages/scipy/sparse/_csc.py:136(tocsr)\n",
      "       34    0.001    0.000    0.001    0.000 {method 'reduce' of 'numpy.ufunc' objects}\n",
      "        1    0.001    0.001    0.001    0.001 {built-in method scipy.sparse._sparsetools.csc_matmat}\n",
      "        1    0.001    0.001    0.001    0.001 {built-in method scipy.sparse._sparsetools.csc_tocsr}\n",
      "        1    0.000    0.000    0.001    0.001 /Library/Frameworks/Python.framework/Versions/3.10/lib/python3.10/site-packages/scipy/sparse/_compressed.py:598(sum)\n",
      "       20    0.000    0.000    0.001    0.000 /Library/Frameworks/Python.framework/Versions/3.10/lib/python3.10/site-packages/scipy/sparse/_compressed.py:135(check_format)\n",
      "        1    0.000    0.000    0.001    0.001 /Library/Frameworks/Python.framework/Versions/3.10/lib/python3.10/site-packages/scipy/sparse/_compressed.py:627(_minor_reduce)\n",
      "        3    0.000    0.000    0.001    0.000 /Library/Frameworks/Python.framework/Versions/3.10/lib/python3.10/site-packages/scipy/sparse/_compressed.py:1223(_with_data)\n",
      "        2    0.001    0.000    0.001    0.000 {built-in method scipy.sparse._sparsetools.csr_sum_duplicates}\n",
      "        5    0.000    0.000    0.001    0.000 /Library/Frameworks/Python.framework/Versions/3.10/lib/python3.10/site-packages/scipy/sparse/_coo.py:273(_check)\n",
      "       40    0.000    0.000    0.001    0.000 <__array_function__ internals>:177(norm)\n",
      "        2    0.000    0.000    0.001    0.000 /Library/Frameworks/Python.framework/Versions/3.10/lib/python3.10/site-packages/scipy/sparse/_base.py:613(__rmul__)\n",
      "        2    0.000    0.000    0.001    0.000 /Library/Frameworks/Python.framework/Versions/3.10/lib/python3.10/site-packages/scipy/sparse/_compressed.py:364(multiply)\n",
      "       16    0.000    0.000    0.001    0.000 {method 'max' of 'numpy.ndarray' objects}\n",
      "       16    0.000    0.000    0.001    0.000 /Library/Frameworks/Python.framework/Versions/3.10/lib/python3.10/site-packages/numpy/core/_methods.py:38(_amax)\n",
      "       40    0.000    0.000    0.001    0.000 /Library/Frameworks/Python.framework/Versions/3.10/lib/python3.10/site-packages/numpy/linalg/linalg.py:2357(norm)\n",
      "        1    0.001    0.001    0.001    0.001 {method 'reduceat' of 'numpy.ufunc' objects}\n",
      "       16    0.000    0.000    0.001    0.000 {method 'min' of 'numpy.ndarray' objects}\n",
      "       16    0.000    0.000    0.001    0.000 /Library/Frameworks/Python.framework/Versions/3.10/lib/python3.10/site-packages/numpy/core/_methods.py:42(_amin)\n",
      "        8    0.001    0.000    0.001    0.000 {method 'copy' of 'numpy.ndarray' objects}\n",
      "        1    0.000    0.000    0.000    0.000 {built-in method scipy.sparse._sparsetools.csc_matmat_maxnnz}\n",
      "       40    0.000    0.000    0.000    0.000 {method 'dot' of 'numpy.ndarray' objects}\n",
      "       91    0.000    0.000    0.000    0.000 <__array_function__ internals>:177(can_cast)\n",
      "        1    0.000    0.000    0.000    0.000 /Library/Frameworks/Python.framework/Versions/3.10/lib/python3.10/site-packages/scipy/sparse/_construct.py:229(eye)\n",
      "        2    0.000    0.000    0.000    0.000 {method 'nonzero' of 'numpy.ndarray' objects}\n",
      "       24    0.000    0.000    0.000    0.000 /Library/Frameworks/Python.framework/Versions/3.10/lib/python3.10/site-packages/scipy/sparse/_compressed.py:1167(prune)\n",
      "       47    0.000    0.000    0.000    0.000 /Library/Frameworks/Python.framework/Versions/3.10/lib/python3.10/site-packages/scipy/sparse/_sputils.py:211(isscalarlike)\n",
      "        1    0.000    0.000    0.000    0.000 /Library/Frameworks/Python.framework/Versions/3.10/lib/python3.10/site-packages/scipy/sparse/_csr.py:177(tocsc)\n",
      "      110    0.000    0.000    0.000    0.000 /Library/Frameworks/Python.framework/Versions/3.10/lib/python3.10/site-packages/numpy/core/getlimits.py:648(__init__)\n",
      "       16    0.000    0.000    0.000    0.000 {method 'astype' of 'numpy.ndarray' objects}\n",
      "       41    0.000    0.000    0.000    0.000 {built-in method numpy.zeros}\n",
      "       26    0.000    0.000    0.000    0.000 /Library/Frameworks/Python.framework/Versions/3.10/lib/python3.10/site-packages/scipy/sparse/_sputils.py:294(check_shape)\n",
      "       47    0.000    0.000    0.000    0.000 /Library/Frameworks/Python.framework/Versions/3.10/lib/python3.10/site-packages/numpy/core/numeric.py:1873(isscalar)\n",
      "        1    0.000    0.000    0.000    0.000 /Library/Frameworks/Python.framework/Versions/3.10/lib/python3.10/site-packages/scipy/sparse/_coo.py:518(_with_data)\n",
      "        2    0.000    0.000    0.000    0.000 /Library/Frameworks/Python.framework/Versions/3.10/lib/python3.10/site-packages/scipy/sparse/_base.py:725(T)\n",
      "      123    0.000    0.000    0.000    0.000 /Library/Frameworks/Python.framework/Versions/3.10/lib/python3.10/site-packages/scipy/sparse/_base.py:286(nnz)\n",
      "        2    0.000    0.000    0.000    0.000 /Library/Frameworks/Python.framework/Versions/3.10/lib/python3.10/site-packages/scipy/sparse/_csr.py:140(transpose)\n",
      "        1    0.000    0.000    0.000    0.000 <__array_function__ internals>:177(flatnonzero)\n",
      "        1    0.000    0.000    0.000    0.000 /Library/Frameworks/Python.framework/Versions/3.10/lib/python3.10/site-packages/numpy/core/numeric.py:631(flatnonzero)\n",
      "        1    0.000    0.000    0.000    0.000 <__array_function__ internals>:177(nonzero)\n",
      "        1    0.000    0.000    0.000    0.000 /Library/Frameworks/Python.framework/Versions/3.10/lib/python3.10/site-packages/numpy/core/fromnumeric.py:1866(nonzero)\n",
      "        1    0.000    0.000    0.000    0.000 /Library/Frameworks/Python.framework/Versions/3.10/lib/python3.10/site-packages/numpy/core/fromnumeric.py:51(_wrapfunc)\n",
      "        2    0.000    0.000    0.000    0.000 /Library/Frameworks/Python.framework/Versions/3.10/lib/python3.10/site-packages/numpy/core/numeric.py:149(ones)\n",
      "        2    0.000    0.000    0.000    0.000 {built-in method numpy.arange}\n",
      "       63    0.000    0.000    0.000    0.000 <frozen importlib._bootstrap>:404(parent)\n",
      "        2    0.000    0.000    0.000    0.000 <__array_function__ internals>:177(copyto)\n",
      "      179    0.000    0.000    0.000    0.000 {built-in method builtins.min}\n",
      "      106    0.000    0.000    0.000    0.000 /Library/Frameworks/Python.framework/Versions/3.10/lib/python3.10/site-packages/scipy/sparse/_compressed.py:107(_getnnz)\n",
      "        1    0.000    0.000    0.000    0.000 {built-in method scipy.sparse._sparsetools.csr_tocsc}\n",
      "       43    0.000    0.000    0.000    0.000 /Library/Frameworks/Python.framework/Versions/3.10/lib/python3.10/abc.py:117(__instancecheck__)\n",
      "       21    0.000    0.000    0.000    0.000 {built-in method numpy.empty}\n",
      "        4    0.000    0.000    0.000    0.000 /Library/Frameworks/Python.framework/Versions/3.10/lib/python3.10/site-packages/scipy/sparse/_compressed.py:1080(__get_has_canonical_format)\n",
      "       25    0.000    0.000    0.000    0.000 /Library/Frameworks/Python.framework/Versions/3.10/lib/python3.10/site-packages/scipy/sparse/_data.py:20(__init__)\n",
      "       80    0.000    0.000    0.000    0.000 {method 'ravel' of 'numpy.ndarray' objects}\n",
      "        8    0.000    0.000    0.000    0.000 <__array_function__ internals>:177(empty_like)\n",
      "       78    0.000    0.000    0.000    0.000 /Library/Frameworks/Python.framework/Versions/3.10/lib/python3.10/site-packages/scipy/sparse/_sputils.py:307(<genexpr>)\n",
      "        1    0.000    0.000    0.000    0.000 <__array_function__ internals>:177(diff)\n",
      "       42    0.000    0.000    0.000    0.000 {method 'reshape' of 'numpy.ndarray' objects}\n",
      "        1    0.000    0.000    0.000    0.000 /Library/Frameworks/Python.framework/Versions/3.10/lib/python3.10/site-packages/numpy/lib/function_base.py:1319(diff)\n",
      "       53    0.000    0.000    0.000    0.000 {built-in method builtins.getattr}\n",
      "        2    0.000    0.000    0.000    0.000 {method 'sum' of 'numpy.ndarray' objects}\n",
      "       55    0.000    0.000    0.000    0.000 /Library/Frameworks/Python.framework/Versions/3.10/lib/python3.10/site-packages/numpy/core/getlimits.py:659(min)\n",
      "        4    0.000    0.000    0.000    0.000 {built-in method scipy.sparse._sparsetools.csr_has_canonical_format}\n",
      "        6    0.000    0.000    0.000    0.000 /Library/Frameworks/Python.framework/Versions/3.10/lib/python3.10/site-packages/scipy/sparse/_compressed.py:124(_set_self)\n",
      "        2    0.000    0.000    0.000    0.000 /Library/Frameworks/Python.framework/Versions/3.10/lib/python3.10/site-packages/numpy/core/_methods.py:46(_sum)\n",
      "       43    0.000    0.000    0.000    0.000 {built-in method _abc._abc_instancecheck}\n",
      "       39    0.000    0.000    0.000    0.000 /Library/Frameworks/Python.framework/Versions/3.10/lib/python3.10/site-packages/scipy/sparse/_sputils.py:56(upcast_char)\n",
      "       25    0.000    0.000    0.000    0.000 /Library/Frameworks/Python.framework/Versions/3.10/lib/python3.10/site-packages/scipy/sparse/_base.py:108(__init__)\n",
      "       17    0.000    0.000    0.000    0.000 /Library/Frameworks/Python.framework/Versions/3.10/lib/python3.10/site-packages/scipy/sparse/_coo.py:247(_getnnz)\n",
      "        6    0.000    0.000    0.000    0.000 /Library/Frameworks/Python.framework/Versions/3.10/lib/python3.10/site-packages/numpy/core/numerictypes.py:356(issubdtype)\n",
      "       26    0.000    0.000    0.000    0.000 {built-in method builtins.any}\n",
      "        2    0.000    0.000    0.000    0.000 /Library/Frameworks/Python.framework/Versions/3.10/lib/python3.10/functools.py:961(__get__)\n",
      "       48    0.000    0.000    0.000    0.000 /Library/Frameworks/Python.framework/Versions/3.10/lib/python3.10/site-packages/scipy/_lib/_util.py:144(_prune_array)\n",
      "       55    0.000    0.000    0.000    0.000 /Library/Frameworks/Python.framework/Versions/3.10/lib/python3.10/site-packages/numpy/core/getlimits.py:672(max)\n",
      "       30    0.000    0.000    0.000    0.000 {built-in method builtins.max}\n",
      "      115    0.000    0.000    0.000    0.000 /Library/Frameworks/Python.framework/Versions/3.10/lib/python3.10/site-packages/scipy/sparse/_base.py:1331(<lambda>)\n",
      "       43    0.000    0.000    0.000    0.000 /Library/Frameworks/Python.framework/Versions/3.10/lib/python3.10/site-packages/scipy/sparse/_sputils.py:267(isdense)\n",
      "        2    0.000    0.000    0.000    0.000 /Library/Frameworks/Python.framework/Versions/3.10/lib/python3.10/site-packages/networkx/classes/reportviews.py:1355(__call__)\n",
      "        9    0.000    0.000    0.000    0.000 /Library/Frameworks/Python.framework/Versions/3.10/lib/python3.10/site-packages/scipy/sparse/_sputils.py:22(upcast)\n",
      "       98    0.000    0.000    0.000    0.000 {built-in method builtins.issubclass}\n",
      "       63    0.000    0.000    0.000    0.000 {method 'rpartition' of 'str' objects}\n",
      "       12    0.000    0.000    0.000    0.000 /Library/Frameworks/Python.framework/Versions/3.10/lib/python3.10/site-packages/numpy/core/numerictypes.py:282(issubclass_)\n",
      "       23    0.000    0.000    0.000    0.000 /Library/Frameworks/Python.framework/Versions/3.10/lib/python3.10/site-packages/scipy/sparse/_base.py:1461(issparse)\n",
      "       40    0.000    0.000    0.000    0.000 /Library/Frameworks/Python.framework/Versions/3.10/lib/python3.10/site-packages/numpy/linalg/linalg.py:117(isComplexType)\n",
      "        5    0.000    0.000    0.000    0.000 /Library/Frameworks/Python.framework/Versions/3.10/lib/python3.10/site-packages/scipy/sparse/_sputils.py:109(getdtype)\n",
      "       66    0.000    0.000    0.000    0.000 /Library/Frameworks/Python.framework/Versions/3.10/lib/python3.10/site-packages/scipy/sparse/_base.py:296(format)\n",
      "        1    0.000    0.000    0.000    0.000 /Library/Frameworks/Python.framework/Versions/3.10/lib/python3.10/site-packages/scipy/sparse/_sputils.py:202(get_sum_dtype)\n",
      "        2    0.000    0.000    0.000    0.000 /Library/Frameworks/Python.framework/Versions/3.10/lib/python3.10/site-packages/scipy/sparse/_base.py:86(_csr_container)\n",
      "       91    0.000    0.000    0.000    0.000 /Library/Frameworks/Python.framework/Versions/3.10/lib/python3.10/site-packages/numpy/core/multiarray.py:498(can_cast)\n",
      "       52    0.000    0.000    0.000    0.000 /Library/Frameworks/Python.framework/Versions/3.10/lib/python3.10/site-packages/scipy/sparse/_data.py:23(_get_dtype)\n",
      "        3    0.000    0.000    0.000    0.000 /Library/Frameworks/Python.framework/Versions/3.10/lib/python3.10/site-packages/scipy/sparse/_matrix.py:26(_csr_container)\n",
      "       77    0.000    0.000    0.000    0.000 /Library/Frameworks/Python.framework/Versions/3.10/lib/python3.10/site-packages/scipy/sparse/_matrix.py:90(get_shape)\n",
      "       25    0.000    0.000    0.000    0.000 /Library/Frameworks/Python.framework/Versions/3.10/lib/python3.10/site-packages/scipy/sparse/_sputils.py:93(to_native)\n",
      "        2    0.000    0.000    0.000    0.000 /Library/Frameworks/Python.framework/Versions/3.10/lib/python3.10/site-packages/scipy/sparse/_base.py:81(_csc_container)\n",
      "       78    0.000    0.000    0.000    0.000 /Library/Frameworks/Python.framework/Versions/3.10/lib/python3.10/site-packages/scipy/sparse/_sputils.py:312(<genexpr>)\n",
      "        1    0.000    0.000    0.000    0.000 /Library/Frameworks/Python.framework/Versions/3.10/lib/python3.10/site-packages/networkx/classes/digraph.py:316(__init__)\n",
      "        2    0.000    0.000    0.000    0.000 /Library/Frameworks/Python.framework/Versions/3.10/lib/python3.10/site-packages/networkx/classes/reportviews.py:905(__init__)\n",
      "        1    0.000    0.000    0.000    0.000 <class 'networkx.utils.decorators.argmap'> compilation 16:1(argmap_strongly_connected_components_13)\n",
      "        2    0.000    0.000    0.000    0.000 /Library/Frameworks/Python.framework/Versions/3.10/lib/python3.10/site-packages/networkx/classes/reportviews.py:946(__iter__)\n",
      "        1    0.000    0.000    0.000    0.000 /Library/Frameworks/Python.framework/Versions/3.10/lib/python3.10/site-packages/scipy/sparse/_matrix.py:16(_coo_container)\n",
      "       40    0.000    0.000    0.000    0.000 /Library/Frameworks/Python.framework/Versions/3.10/lib/python3.10/site-packages/numpy/linalg/linalg.py:2353(_norm_dispatcher)\n",
      "        6    0.000    0.000    0.000    0.000 /Library/Frameworks/Python.framework/Versions/3.10/lib/python3.10/site-packages/scipy/sparse/_compressed.py:1102(__set_has_canonical_format)\n",
      "       52    0.000    0.000    0.000    0.000 {built-in method _operator.index}\n",
      "        1    0.000    0.000    0.000    0.000 <__array_function__ internals>:177(ravel)\n",
      "        8    0.000    0.000    0.000    0.000 /Library/Frameworks/Python.framework/Versions/3.10/lib/python3.10/site-packages/scipy/sparse/_compressed.py:1142(__set_sorted)\n",
      "        2    0.000    0.000    0.000    0.000 /Library/Frameworks/Python.framework/Versions/3.10/lib/python3.10/site-packages/scipy/sparse/_compressed.py:1126(__get_sorted)\n",
      "        1    0.000    0.000    0.000    0.000 /Library/Frameworks/Python.framework/Versions/3.10/lib/python3.10/site-packages/networkx/classes/digraph.py:1085(in_degree)\n",
      "        5    0.000    0.000    0.000    0.000 /Library/Frameworks/Python.framework/Versions/3.10/lib/python3.10/site-packages/networkx/classes/graph.py:467(__len__)\n",
      "        1    0.000    0.000    0.000    0.000 /Library/Frameworks/Python.framework/Versions/3.10/lib/python3.10/site-packages/numpy/core/fromnumeric.py:1755(ravel)\n",
      "        3    0.000    0.000    0.000    0.000 /Library/Frameworks/Python.framework/Versions/3.10/lib/python3.10/site-packages/networkx/classes/graph.py:435(__iter__)\n",
      "        2    0.000    0.000    0.000    0.000 /Library/Frameworks/Python.framework/Versions/3.10/lib/python3.10/site-packages/networkx/utils/decorators.py:86(_not_implemented_for)\n",
      "       46    0.000    0.000    0.000    0.000 /Library/Frameworks/Python.framework/Versions/3.10/lib/python3.10/site-packages/scipy/sparse/_csr.py:236(_swap)\n",
      "       22    0.000    0.000    0.000    0.000 /Library/Frameworks/Python.framework/Versions/3.10/lib/python3.10/site-packages/scipy/sparse/_csc.py:234(_swap)\n",
      "        1    0.000    0.000    0.000    0.000 /Library/Frameworks/Python.framework/Versions/3.10/lib/python3.10/site-packages/networkx/classes/reportviews.py:417(__init__)\n",
      "        1    0.000    0.000    0.000    0.000 /Library/Frameworks/Python.framework/Versions/3.10/lib/python3.10/site-packages/scipy/sparse/_matrix.py:21(_csc_container)\n",
      "        9    0.000    0.000    0.000    0.000 {built-in method builtins.hash}\n",
      "        9    0.000    0.000    0.000    0.000 {built-in method builtins.hasattr}\n",
      "        1    0.000    0.000    0.000    0.000 /Library/Frameworks/Python.framework/Versions/3.10/lib/python3.10/site-packages/networkx/classes/graph.py:732(nodes)\n",
      "        2    0.000    0.000    0.000    0.000 /Library/Frameworks/Python.framework/Versions/3.10/lib/python3.10/site-packages/networkx/classes/reportviews.py:185(__iter__)\n",
      "        1    0.000    0.000    0.000    0.000 /Library/Frameworks/Python.framework/Versions/3.10/lib/python3.10/site-packages/scipy/sparse/_sputils.py:73(downcast_intp_index)\n",
      "        1    0.000    0.000    0.000    0.000 /Library/Frameworks/Python.framework/Versions/3.10/lib/python3.10/site-packages/scipy/sparse/_base.py:221(_ascontainer)\n",
      "        2    0.000    0.000    0.000    0.000 /Library/Frameworks/Python.framework/Versions/3.10/lib/python3.10/site-packages/networkx/classes/reportviews.py:424(__call__)\n",
      "        2    0.000    0.000    0.000    0.000 {built-in method scipy.sparse._sparsetools.csr_has_sorted_indices}\n",
      "        3    0.000    0.000    0.000    0.000 /Library/Frameworks/Python.framework/Versions/3.10/lib/python3.10/site-packages/networkx/classes/reportviews.py:205(__call__)\n",
      "        3    0.000    0.000    0.000    0.000 /Library/Frameworks/Python.framework/Versions/3.10/lib/python3.10/site-packages/networkx/classes/multidigraph.py:862(is_directed)\n",
      "        1    0.000    0.000    0.000    0.000 /Library/Frameworks/Python.framework/Versions/3.10/lib/python3.10/site-packages/networkx/classes/graph.py:59(__set__)\n",
      "        6    0.000    0.000    0.000    0.000 /Library/Frameworks/Python.framework/Versions/3.10/lib/python3.10/site-packages/numpy/core/fromnumeric.py:3117(_ndim_dispatcher)\n",
      "        1    0.000    0.000    0.000    0.000 /Library/Frameworks/Python.framework/Versions/3.10/lib/python3.10/site-packages/networkx/classes/reportviews.py:182(__len__)\n",
      "        8    0.000    0.000    0.000    0.000 /Library/Frameworks/Python.framework/Versions/3.10/lib/python3.10/site-packages/numpy/core/multiarray.py:80(empty_like)\n",
      "        1    0.000    0.000    0.000    0.000 /Library/Frameworks/Python.framework/Versions/3.10/lib/python3.10/site-packages/networkx/classes/reportviews.py:178(__init__)\n",
      "        2    0.000    0.000    0.000    0.000 {method '__exit__' of '_thread.RLock' objects}\n",
      "        1    0.000    0.000    0.000    0.000 {method 'disable' of '_lsprof.Profiler' objects}\n",
      "        1    0.000    0.000    0.000    0.000 /Library/Frameworks/Python.framework/Versions/3.10/lib/python3.10/site-packages/networkx/classes/digraph.py:37(__set__)\n",
      "        2    0.000    0.000    0.000    0.000 {built-in method numpy.asanyarray}\n",
      "        1    0.000    0.000    0.000    0.000 /Library/Frameworks/Python.framework/Versions/3.10/lib/python3.10/site-packages/networkx/classes/digraph.py:63(__set__)\n",
      "        1    0.000    0.000    0.000    0.000 /Library/Frameworks/Python.framework/Versions/3.10/lib/python3.10/site-packages/networkx/classes/digraph.py:1221(is_directed)\n",
      "        2    0.000    0.000    0.000    0.000 /Library/Frameworks/Python.framework/Versions/3.10/lib/python3.10/site-packages/numpy/core/multiarray.py:1071(copyto)\n",
      "        1    0.000    0.000    0.000    0.000 {built-in method numpy.core._multiarray_umath.normalize_axis_index}\n",
      "        1    0.000    0.000    0.000    0.000 /Library/Frameworks/Python.framework/Versions/3.10/lib/python3.10/site-packages/scipy/sparse/_base.py:698(__iadd__)\n",
      "        1    0.000    0.000    0.000    0.000 /Library/Frameworks/Python.framework/Versions/3.10/lib/python3.10/site-packages/numpy/lib/function_base.py:1315(_diff_dispatcher)\n",
      "        1    0.000    0.000    0.000    0.000 /Library/Frameworks/Python.framework/Versions/3.10/lib/python3.10/site-packages/networkx/classes/digraph.py:1217(is_multigraph)\n",
      "        1    0.000    0.000    0.000    0.000 /Library/Frameworks/Python.framework/Versions/3.10/lib/python3.10/site-packages/numpy/core/numeric.py:627(_flatnonzero_dispatcher)\n",
      "        1    0.000    0.000    0.000    0.000 /Library/Frameworks/Python.framework/Versions/3.10/lib/python3.10/site-packages/numpy/core/fromnumeric.py:1751(_ravel_dispatcher)\n",
      "        1    0.000    0.000    0.000    0.000 /Library/Frameworks/Python.framework/Versions/3.10/lib/python3.10/site-packages/numpy/core/fromnumeric.py:1862(_nonzero_dispatcher)\n",
      "\n",
      "\n"
     ]
    },
    {
     "data": {
      "text/plain": [
       "<pstats.Stats at 0x11f9b47c0>"
      ]
     },
     "execution_count": 93,
     "metadata": {},
     "output_type": "execute_result"
    }
   ],
   "source": [
    "fast = pstats.Stats('restats')\n",
    "fast.sort_stats('cumulative').print_stats()"
   ]
  },
  {
   "cell_type": "code",
   "execution_count": 92,
   "metadata": {},
   "outputs": [],
   "source": [
    "cProfile.run('Fast(fb_graph, 0.85)', 'restats')"
   ]
  },
  {
   "cell_type": "code",
   "execution_count": 243,
   "metadata": {},
   "outputs": [],
   "source": [
    "G = fb_graph"
   ]
  },
  {
   "cell_type": "code",
   "execution_count": 244,
   "metadata": {},
   "outputs": [],
   "source": [
    "C = list(nx.strongly_connected_components(G))\n",
    "G1 = nx.condensation(G, C)\n",
    "L = networkx.topological_sort(G1)"
   ]
  },
  {
   "cell_type": "code",
   "execution_count": 170,
   "metadata": {},
   "outputs": [],
   "source": [
    "#ancestors = {node: set() for node in G.nodes}\n",
    "predecessors = [set(C[node]) for node in G1.nodes()]#copy.deepcopy(C) #[set(C[node]) for node in G1.nodes()] #"
   ]
  },
  {
   "cell_type": "code",
   "execution_count": 264,
   "metadata": {},
   "outputs": [
    {
     "name": "stdout",
     "output_type": "stream",
     "text": [
      "         1155805 function calls (1065925 primitive calls) in 10.737 seconds\n",
      "\n",
      "   Ordered by: standard name\n",
      "\n",
      "   ncalls  tottime  percall  cumtime  percall filename:lineno(function)\n",
      "        1    0.176    0.176   10.009   10.009 3445560071.py:1(find_all_ancestors5_optimized)\n",
      "        1    0.027    0.027    0.027    0.027 3445560071.py:3(<dictcomp>)\n",
      "        1    0.728    0.728   10.737   10.737 <string>:1(<module>)\n",
      "        2    0.000    0.000    0.000    0.000 backends.py:409(__call__)\n",
      "  67411/1    2.933    0.000    3.138    3.138 copy.py:128(deepcopy)\n",
      "    22470    0.003    0.000    0.003    0.000 copy.py:182(_deepcopy_atomic)\n",
      "  22471/1    0.043    0.000    3.138    3.138 copy.py:201(_deepcopy_list)\n",
      "    44941    0.027    0.000    0.037    0.000 copy.py:243(_keep_alive)\n",
      "    22470    0.039    0.000    2.986    0.000 copy.py:259(_reconstruct)\n",
      "    44940    0.013    0.000    2.944    0.000 copy.py:264(<genexpr>)\n",
      "      135    0.076    0.001    0.124    0.001 dag.py:166(topological_generations)\n",
      "        1    0.005    0.005    0.014    0.014 dag.py:219(<dictcomp>)\n",
      "        1    0.004    0.004    0.013    0.013 dag.py:220(<listcomp>)\n",
      "    22471    0.006    0.000    0.130    0.000 dag.py:244(topological_sort)\n",
      "        1    0.000    0.000    0.000    0.000 digraph.py:1217(is_multigraph)\n",
      "        1    0.000    0.000    0.000    0.000 digraph.py:1221(is_directed)\n",
      "    22470    0.010    0.000    0.012    0.000 digraph.py:874(successors)\n",
      "    22470    0.018    0.000    0.021    0.000 digraph.py:906(predecessors)\n",
      "    22470    0.007    0.000    0.007    0.000 graph.py:453(__contains__)\n",
      "        1    0.000    0.000    0.000    0.000 reportviews.py:185(__iter__)\n",
      "        2    0.000    0.000    0.000    0.000 reportviews.py:424(__call__)\n",
      "    44942    0.015    0.000    0.019    0.000 reportviews.py:575(__iter__)\n",
      "        1    0.000    0.000   10.737   10.737 {built-in method builtins.exec}\n",
      "    44940    0.007    0.000    0.007    0.000 {built-in method builtins.getattr}\n",
      "   157294    0.020    0.000    0.020    0.000 {built-in method builtins.id}\n",
      "    22470    0.003    0.000    0.003    0.000 {built-in method builtins.isinstance}\n",
      "    22470    0.003    0.000    0.003    0.000 {built-in method builtins.issubclass}\n",
      "    44941    0.005    0.000    0.005    0.000 {built-in method builtins.iter}\n",
      "    44940    0.003    0.000    0.003    0.000 {built-in method builtins.len}\n",
      "    22470    0.014    0.000    0.014    0.000 {method '__reduce_ex__' of 'object' objects}\n",
      "   108490    0.012    0.000    0.012    0.000 {method 'append' of 'list' objects}\n",
      "        1    0.000    0.000    0.000    0.000 {method 'disable' of '_lsprof.Profiler' objects}\n",
      "   157292    0.024    0.000    0.024    0.000 {method 'get' of 'dict' objects}\n",
      "   170823    6.517    0.000    6.517    0.000 {method 'update' of 'set' objects}\n",
      "\n",
      "\n"
     ]
    }
   ],
   "source": [
    "cProfile.run('find_all_ancestors5_optimized(G, C, G1)')"
   ]
  },
  {
   "cell_type": "code",
   "execution_count": 249,
   "metadata": {},
   "outputs": [
    {
     "name": "stdout",
     "output_type": "stream",
     "text": [
      "         940042 function calls (850162 primitive calls) in 0.517 seconds\n",
      "\n",
      "   Ordered by: standard name\n",
      "\n",
      "   ncalls  tottime  percall  cumtime  percall filename:lineno(function)\n",
      "        1    0.023    0.023    0.514    0.514 1887408157.py:1(find_all_ancestors5_optimized)\n",
      "        1    0.007    0.007    0.007    0.007 1887408157.py:3(<dictcomp>)\n",
      "        1    0.002    0.002    0.517    0.517 <string>:1(<module>)\n",
      "        2    0.000    0.000    0.000    0.000 backends.py:409(__call__)\n",
      "  67411/1    0.156    0.000    0.370    0.370 copy.py:128(deepcopy)\n",
      "    22470    0.003    0.000    0.003    0.000 copy.py:182(_deepcopy_atomic)\n",
      "  22471/1    0.041    0.000    0.370    0.370 copy.py:201(_deepcopy_list)\n",
      "    44941    0.032    0.000    0.043    0.000 copy.py:243(_keep_alive)\n",
      "    22470    0.043    0.000    0.220    0.000 copy.py:259(_reconstruct)\n",
      "    44940    0.015    0.000    0.174    0.000 copy.py:264(<genexpr>)\n",
      "      135    0.065    0.000    0.111    0.001 dag.py:166(topological_generations)\n",
      "        1    0.005    0.005    0.015    0.015 dag.py:219(<dictcomp>)\n",
      "        1    0.004    0.004    0.013    0.013 dag.py:220(<listcomp>)\n",
      "    22471    0.003    0.000    0.114    0.000 dag.py:244(topological_sort)\n",
      "        1    0.000    0.000    0.000    0.000 digraph.py:1217(is_multigraph)\n",
      "        1    0.000    0.000    0.000    0.000 digraph.py:1221(is_directed)\n",
      "    22470    0.009    0.000    0.011    0.000 digraph.py:874(successors)\n",
      "    22470    0.006    0.000    0.006    0.000 graph.py:453(__contains__)\n",
      "        1    0.000    0.000    0.000    0.000 reportviews.py:185(__iter__)\n",
      "        2    0.000    0.000    0.000    0.000 reportviews.py:424(__call__)\n",
      "    44942    0.016    0.000    0.019    0.000 reportviews.py:575(__iter__)\n",
      "        1    0.000    0.000    0.517    0.517 {built-in method builtins.exec}\n",
      "    44940    0.007    0.000    0.007    0.000 {built-in method builtins.getattr}\n",
      "   157294    0.019    0.000    0.019    0.000 {built-in method builtins.id}\n",
      "    22470    0.004    0.000    0.004    0.000 {built-in method builtins.isinstance}\n",
      "    22470    0.003    0.000    0.003    0.000 {built-in method builtins.issubclass}\n",
      "    22471    0.002    0.000    0.002    0.000 {built-in method builtins.iter}\n",
      "    44940    0.004    0.000    0.004    0.000 {built-in method builtins.len}\n",
      "    22470    0.013    0.000    0.013    0.000 {method '__reduce_ex__' of 'object' objects}\n",
      "   108490    0.012    0.000    0.012    0.000 {method 'append' of 'list' objects}\n",
      "        1    0.000    0.000    0.000    0.000 {method 'disable' of '_lsprof.Profiler' objects}\n",
      "   157292    0.024    0.000    0.024    0.000 {method 'get' of 'dict' objects}\n",
      "\n",
      "\n"
     ]
    }
   ],
   "source": [
    "cProfile.run('find_all_ancestors5_optimized(G, C, G1)')"
   ]
  },
  {
   "cell_type": "code",
   "execution_count": 171,
   "metadata": {},
   "outputs": [],
   "source": [
    "for node in L:\n",
    "        for pred in G1.predecessors(node):\n",
    "                predecessors[node].update(predecessors[pred])\n",
    "        for original_node in C[node]:\n",
    "            ancestors[original_node] = predecessors[node]"
   ]
  },
  {
   "cell_type": "code",
   "execution_count": null,
   "metadata": {},
   "outputs": [],
   "source": [
    "'''def find_all_ancestors(G, C, G1):\n",
    "    # Initialize an empty dictionary to store the ancestors of each node\n",
    "    ancestors = {node: set() for node in G.nodes()}\n",
    "    S = set()\n",
    "    \n",
    "    for node in nx.topological_sort(G1):\n",
    "        node_ancestors = C[node].union(S)\n",
    "        for original_node in C[node]:\n",
    "            ancestors[original_node] = node_ancestors\n",
    "        S.update(node_ancestors)\n",
    "\n",
    "    # Use a list comprehension for u\n",
    "    u = [ancestors[node] for node in G.nodes()]\n",
    "    return u'''"
   ]
  },
  {
   "cell_type": "code",
   "execution_count": 97,
   "metadata": {},
   "outputs": [],
   "source": [
    "Graph = fb_graph\n",
    "C = list(nx.strongly_connected_components(Graph))\n",
    "G1 = nx.condensation(Graph, C)"
   ]
  },
  {
   "cell_type": "code",
   "execution_count": 26,
   "metadata": {},
   "outputs": [],
   "source": [
    "# Initialize a list to store the ancestors of each node\n",
    "ancestors = [[] for _ in range(len(Graph.nodes()))]\n",
    "predecessors = {node: set() for node in G1.nodes()}\n",
    "\n",
    "for node in nx.topological_sort(G1):\n",
    "    for pred in G1.predecessors(node):\n",
    "        predecessors[node] = predecessors[node].union(C[pred])\n",
    "\n",
    "    components = list(C[node])\n",
    "    for original_node in C[node]:\n",
    "        og_predecessors = [supernode for supernode in predecessors[node]]\n",
    "        ancestors[original_node] = components + og_predecessors\n",
    "\n",
    "u = [ancestors[node] for node in Graph.nodes()]\n",
    "\n",
    "\n"
   ]
  },
  {
   "cell_type": "code",
   "execution_count": 98,
   "metadata": {},
   "outputs": [
    {
     "data": {
      "text/plain": [
       "<generator object topological_generations at 0x1253b8cf0>"
      ]
     },
     "execution_count": 98,
     "metadata": {},
     "output_type": "execute_result"
    }
   ],
   "source": [
    "networkx.topological_generations(G1)"
   ]
  },
  {
   "cell_type": "code",
   "execution_count": null,
   "metadata": {},
   "outputs": [],
   "source": []
  }
 ],
 "metadata": {
  "kernelspec": {
   "display_name": "Python 3",
   "language": "python",
   "name": "python3"
  },
  "language_info": {
   "codemirror_mode": {
    "name": "ipython",
    "version": 3
   },
   "file_extension": ".py",
   "mimetype": "text/x-python",
   "name": "python",
   "nbconvert_exporter": "python",
   "pygments_lexer": "ipython3",
   "version": "3.10.5"
  }
 },
 "nbformat": 4,
 "nbformat_minor": 2
}
