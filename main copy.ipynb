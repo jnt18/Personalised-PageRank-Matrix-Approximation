{
 "cells": [
  {
   "cell_type": "code",
   "execution_count": 2,
   "metadata": {},
   "outputs": [],
   "source": [
    "from sympy import Matrix, init_printing, eye, shape, ones, re, Symbol, symbols, diag, zeros, ImmutableMatrix\n",
    "init_printing()"
   ]
  },
  {
   "cell_type": "code",
   "execution_count": 1,
   "metadata": {},
   "outputs": [],
   "source": [
    "import numpy as np\n",
    "from scipy import sparse\n",
    "import networkx\n",
    "from fast_pagerank import pagerank\n",
    "from fast_pagerank import pagerank_power\n",
    "import sklearn\n",
    "from sklearn.decomposition import NMF"
   ]
  },
  {
   "cell_type": "code",
   "execution_count": 3,
   "metadata": {},
   "outputs": [],
   "source": [
    "from scipy import sparse"
   ]
  },
  {
   "cell_type": "code",
   "execution_count": 4,
   "metadata": {},
   "outputs": [],
   "source": [
    "def power(Matrix,i):                                        # Power iteration to approximate the principal eigenvector of Matrix in i iterations\n",
    "    n = shape(Matrix)[0]\n",
    "    eigenvector = ones(n).col(0)                                                              \n",
    "    for j in range(i):\n",
    "        eigenvector = Matrix * eigenvector\n",
    "    eigenvector = eigenvector / sum(eigenvector)\n",
    "    return eigenvector"
   ]
  },
  {
   "cell_type": "code",
   "execution_count": 5,
   "metadata": {},
   "outputs": [],
   "source": [
    "def powerscore(Matrix,m,i):                                 # Transforms Matrix to include teleportation probability m then finds the eigenvector\n",
    "    n = shape(Matrix)[0]\n",
    "    S = 1/n * ones(n)\n",
    "    M = (1-m) * Matrix + m * S                                                      \n",
    "    return power(Matrix,i)"
   ]
  },
  {
   "cell_type": "code",
   "execution_count": 6,
   "metadata": {},
   "outputs": [],
   "source": [
    "def powerrecommend(Matrix,i,m,k):                           # Transforms Matrix to include teleportation probability but only to node i, then returns the eigenvector \n",
    "    n = shape(Matrix)[0]\n",
    "    S = zeros(n-1,n).row_insert(i-1,ones(n).row(i-1))\n",
    "    M = (1-m) * Matrix + m * S                                                         \n",
    "    return power(M,k)"
   ]
  },
  {
   "cell_type": "code",
   "execution_count": 7,
   "metadata": {},
   "outputs": [],
   "source": [
    "def powerrecommend_Matrix(input_Matrix,m,k):                # Computes the eigenvectors for all the recommendation matrices and puts them in a matrix. Each coloumn j represents the recommendation vector for node j. \n",
    "    n = shape(input_Matrix)[0]\n",
    "    S = Matrix()\n",
    "    for i in range(n):\n",
    "        S = S.col_insert(i,Matrix(powerrecommend(input_Matrix,i+1,m,k)))\n",
    "    return S"
   ]
  },
  {
   "cell_type": "code",
   "execution_count": 8,
   "metadata": {},
   "outputs": [],
   "source": [
    "def fast_powerrecommend_Matrix(array, m, k):\n",
    "    n = shape(array)[0]\n",
    "    S = np.empty((0,n))\n",
    "    for i in range(100): #change back to n\n",
    "        personalise = np.zeros(n)\n",
    "        personalise[i]=1\n",
    "        S = np.vstack([S, pagerank_power(array, p=1-m, personalize=personalise, tol=1e-6)])\n",
    "\n",
    "    return S"
   ]
  },
  {
   "cell_type": "code",
   "execution_count": 19,
   "metadata": {},
   "outputs": [],
   "source": [
    "def fast_powerrecommend_Matrix2(array, m):\n",
    "    n = shape(array)[0]\n",
    "    S = np.zeros((n,n))\n",
    "    for i in range(n): #change back to n\n",
    "        personalise = np.zeros(n)\n",
    "        personalise[i]=1\n",
    "        S[i] = pagerank_power(array.T, p=1-m, max_iter=30, personalize=personalise, tol=1e-8) #changed array to array.T\n",
    "        #with array this algorithm assumes a row-stochastic matrix!!!\n",
    "\n",
    "    return S.T"
   ]
  },
  {
   "cell_type": "code",
   "execution_count": 10,
   "metadata": {},
   "outputs": [
    {
     "data": {
      "text/plain": [
       "array([[1, 2, 3, 4]])"
      ]
     },
     "execution_count": 10,
     "metadata": {},
     "output_type": "execute_result"
    }
   ],
   "source": [
    "j = np.zeros((0,4),int)\n",
    "np.vstack([j, np.array([1,2,3,4])])\n"
   ]
  },
  {
   "cell_type": "code",
   "execution_count": 11,
   "metadata": {},
   "outputs": [
    {
     "data": {
      "text/plain": [
       "array([1., 1., 1., 1., 1.])"
      ]
     },
     "execution_count": 11,
     "metadata": {},
     "output_type": "execute_result"
    }
   ],
   "source": [
    "j = np.ones(5)\n",
    "j"
   ]
  },
  {
   "cell_type": "code",
   "execution_count": 12,
   "metadata": {},
   "outputs": [],
   "source": [
    "def fast_embedding(Matrix, m, dim):                           # Factorises the powerrecommend_Matrix into two matrices so that W * H.T = powerrecommend Matrix. \n",
    "    model = NMF(n_components=dim)                          # In the example I took inspiration from a the matrix that represents proximity between nodes = W * W.T. This way if two nodes are not close the dot-product of their embedding vectors is 0, if they are very close their dot-product is one.\n",
    "    W= model.fit_transform(fast_powerrecommend_Matrix2(Matrix,m))# To somewhat approximate this property, the output is the 'average' of the two factor matrices\n",
    "    H = model.components_\n",
    "    #S = (W.T+H)/\n",
    "    #return H.T\n",
    "    return W"
   ]
  },
  {
   "cell_type": "code",
   "execution_count": 13,
   "metadata": {},
   "outputs": [],
   "source": [
    "import numpy \n",
    "from numpy import array"
   ]
  },
  {
   "cell_type": "code",
   "execution_count": 14,
   "metadata": {},
   "outputs": [],
   "source": [
    "import sklearn.decomposition\n",
    "from sklearn.decomposition import NMF"
   ]
  },
  {
   "cell_type": "code",
   "execution_count": 15,
   "metadata": {},
   "outputs": [],
   "source": [
    "def embedding(Matrix, m, k,dim):                           # Factorises the powerrecommend_Matrix into two matrices so that W * H.T = powerrecommend Matrix. \n",
    "    model = NMF(n_components=dim)                          # In the example I took inspiration from a the matrix that represents proximity between nodes = W * W.T. This way if two nodes are not close the dot-product of their embedding vectors is 0, if they are very close their dot-product is one.\n",
    "    W= model.fit_transform(powerrecommend_Matrix(Matrix,m,k))# To somewhat approximate this property, the output is the 'average' of the two factor matrices\n",
    "    H = model.components_\n",
    "    #S = (W.T+H)/\n",
    "    return H"
   ]
  },
  {
   "cell_type": "code",
   "execution_count": 1,
   "metadata": {},
   "outputs": [],
   "source": [
    "def stochastic(array):\n",
    "    n = shape(array)[0]\n",
    "    H = numpy.empty([n,n])\n",
    "    for i in range(n):\n",
    "        for j in range(n):\n",
    "            H[i][j] = (array[i][j])/sum((array[:,j]))\n",
    "    return H\n",
    "    "
   ]
  },
  {
   "cell_type": "code",
   "execution_count": 17,
   "metadata": {},
   "outputs": [],
   "source": [
    "def embedding_space(array,m,k,dim): \n",
    "    K = stochastic(array.todense())\n",
    "    V = embedding(K,m,k,dim).T\n",
    "    return V"
   ]
  },
  {
   "cell_type": "code",
   "execution_count": 18,
   "metadata": {},
   "outputs": [],
   "source": [
    "def n_power(array,i):\n",
    "    n = shape(array)[0]\n",
    "    eigenvector = numpy.ones(n).T                                                          \n",
    "    for j in range(i):\n",
    "        eigenvector = array @ eigenvector\n",
    "    new_eigenvector = []\n",
    "    for k in range(n):                                                                 \n",
    "        new_eigenvector.append((list(eigenvector)[k])/sum(list(eigenvector)))\n",
    "    return new_eigenvector\n",
    "    "
   ]
  }
 ],
 "metadata": {
  "kernelspec": {
   "display_name": "Python 3",
   "language": "python",
   "name": "python3"
  },
  "language_info": {
   "codemirror_mode": {
    "name": "ipython",
    "version": 3
   },
   "file_extension": ".py",
   "mimetype": "text/x-python",
   "name": "python",
   "nbconvert_exporter": "python",
   "pygments_lexer": "ipython3",
   "version": "3.10.5"
  },
  "orig_nbformat": 4
 },
 "nbformat": 4,
 "nbformat_minor": 2
}
